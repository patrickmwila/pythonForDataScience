{
 "cells": [
  {
   "cell_type": "markdown",
   "id": "77d46d13",
   "metadata": {},
   "source": [
    "# Class in Python\n",
    "* Python is an Object-Oriented Programming language\n",
    "* Class is user-defined data structure for creating instances\n",
    "* Syntax: <strong>class </strong> ClassName:\n",
    "* Create instances or objects based on a class\n",
    "* Instance methods: functions belong to a class\n",
    "* Attributes and Instance attributes\n",
    "* __init__(self) to know the initial state and tells python what the values are"
   ]
  },
  {
   "cell_type": "code",
   "execution_count": 24,
   "id": "4cb704d4",
   "metadata": {},
   "outputs": [],
   "source": [
    "# Example Car class\n",
    "class Car:\n",
    "    \n",
    "    # pass implies an empty class\n",
    "    pass   "
   ]
  },
  {
   "cell_type": "code",
   "execution_count": 25,
   "id": "4a80d852",
   "metadata": {},
   "outputs": [],
   "source": [
    "# instantiating a Car class\n",
    "model1 = Car() "
   ]
  },
  {
   "cell_type": "code",
   "execution_count": 26,
   "id": "67338e62",
   "metadata": {},
   "outputs": [],
   "source": [
    "class Car: \n",
    "    color = \"black\""
   ]
  },
  {
   "cell_type": "code",
   "execution_count": 27,
   "id": "33b3a490",
   "metadata": {},
   "outputs": [],
   "source": [
    "# instantiating a Car class\n",
    "model1 = Car()"
   ]
  },
  {
   "cell_type": "code",
   "execution_count": 28,
   "id": "7a68ba4f",
   "metadata": {},
   "outputs": [
    {
     "name": "stdout",
     "output_type": "stream",
     "text": [
      "black\n"
     ]
    }
   ],
   "source": [
    "# accessing instances of a Car class\n",
    "\n",
    "print(model1.color)"
   ]
  },
  {
   "cell_type": "code",
   "execution_count": 29,
   "id": "79bc839e",
   "metadata": {},
   "outputs": [],
   "source": [
    "# adding an __init__(selt) function\n",
    "class Car:\n",
    "    def __init__(self, name, color):\n",
    "        self.name  = name\n",
    "        self.color = color"
   ]
  },
  {
   "cell_type": "code",
   "execution_count": 30,
   "id": "fa87ea60",
   "metadata": {},
   "outputs": [],
   "source": [
    "# instantiation an object using Car class having the __init__()\n",
    "model1 = Car(\"Ranger\", \"Blue\")"
   ]
  },
  {
   "cell_type": "code",
   "execution_count": 31,
   "id": "20622c00",
   "metadata": {},
   "outputs": [
    {
     "name": "stdout",
     "output_type": "stream",
     "text": [
      "Ranger\n",
      "Blue\n"
     ]
    }
   ],
   "source": [
    "print(model1.name)\n",
    "print(model1.color)"
   ]
  },
  {
   "cell_type": "code",
   "execution_count": 32,
   "id": "2bfc3c50",
   "metadata": {},
   "outputs": [],
   "source": [
    "model2 = Car(\"Benz\", \"Silver\")"
   ]
  },
  {
   "cell_type": "code",
   "execution_count": 33,
   "id": "b16d0c84",
   "metadata": {},
   "outputs": [
    {
     "name": "stdout",
     "output_type": "stream",
     "text": [
      "Benz\n",
      "Silver\n"
     ]
    }
   ],
   "source": [
    "print(model2.name)\n",
    "print(model2.color)"
   ]
  },
  {
   "cell_type": "code",
   "execution_count": 34,
   "id": "e1d10e05",
   "metadata": {},
   "outputs": [],
   "source": [
    "# creating user defined functions inside a class\n",
    "class Car:\n",
    "    def __init__(self, name, color, speed):\n",
    "        self.name  = name\n",
    "        self.color = color\n",
    "        self.speed = speed\n",
    "        \n",
    "    def message(self):\n",
    "        print(\"The car name is\", self.name)"
   ]
  },
  {
   "cell_type": "code",
   "execution_count": 36,
   "id": "eac44526",
   "metadata": {},
   "outputs": [],
   "source": [
    "model1 = Car(\"A1\", \"Red\", 180)"
   ]
  },
  {
   "cell_type": "code",
   "execution_count": 37,
   "id": "cf43b457",
   "metadata": {},
   "outputs": [
    {
     "name": "stdout",
     "output_type": "stream",
     "text": [
      "The car name is A1\n"
     ]
    }
   ],
   "source": [
    "model1.message()"
   ]
  },
  {
   "cell_type": "code",
   "execution_count": 38,
   "id": "6daac29a",
   "metadata": {},
   "outputs": [],
   "source": [
    "model1.color = \"White\""
   ]
  },
  {
   "cell_type": "code",
   "execution_count": 39,
   "id": "988e5cd1",
   "metadata": {},
   "outputs": [
    {
     "name": "stdout",
     "output_type": "stream",
     "text": [
      "White\n"
     ]
    }
   ],
   "source": [
    "print(model1.color)"
   ]
  },
  {
   "cell_type": "code",
   "execution_count": 41,
   "id": "3ed3e241",
   "metadata": {},
   "outputs": [],
   "source": [
    "# deleting an attribute or class\n",
    "del model1.color"
   ]
  },
  {
   "cell_type": "code",
   "execution_count": 44,
   "id": "e2c47d8d",
   "metadata": {},
   "outputs": [
    {
     "ename": "AttributeError",
     "evalue": "'Car' object has no attribute 'color'",
     "output_type": "error",
     "traceback": [
      "\u001b[0;31m---------------------------------------------------------------------------\u001b[0m",
      "\u001b[0;31mAttributeError\u001b[0m                            Traceback (most recent call last)",
      "Input \u001b[0;32mIn [44]\u001b[0m, in \u001b[0;36m<module>\u001b[0;34m\u001b[0m\n\u001b[0;32m----> 1\u001b[0m \u001b[38;5;28mprint\u001b[39m(\u001b[43mmodel1\u001b[49m\u001b[38;5;241;43m.\u001b[39;49m\u001b[43mcolor\u001b[49m)\n",
      "\u001b[0;31mAttributeError\u001b[0m: 'Car' object has no attribute 'color'"
     ]
    }
   ],
   "source": [
    "print(model1.color)"
   ]
  },
  {
   "cell_type": "code",
   "execution_count": 45,
   "id": "c7fd3dfe",
   "metadata": {},
   "outputs": [],
   "source": [
    "del model1"
   ]
  },
  {
   "cell_type": "code",
   "execution_count": 47,
   "id": "94f8b347",
   "metadata": {},
   "outputs": [
    {
     "ename": "NameError",
     "evalue": "name 'model1' is not defined",
     "output_type": "error",
     "traceback": [
      "\u001b[0;31m---------------------------------------------------------------------------\u001b[0m",
      "\u001b[0;31mNameError\u001b[0m                                 Traceback (most recent call last)",
      "Input \u001b[0;32mIn [47]\u001b[0m, in \u001b[0;36m<module>\u001b[0;34m\u001b[0m\n\u001b[0;32m----> 1\u001b[0m \u001b[38;5;28mprint\u001b[39m(\u001b[43mmodel1\u001b[49m\u001b[38;5;241m.\u001b[39mname)\n",
      "\u001b[0;31mNameError\u001b[0m: name 'model1' is not defined"
     ]
    }
   ],
   "source": [
    "print(model1.name)"
   ]
  },
  {
   "cell_type": "markdown",
   "id": "3dca3452",
   "metadata": {},
   "source": [
    "## Inheritance\n",
    "* Creating a class based on another class to inherit all methods and properties"
   ]
  },
  {
   "cell_type": "code",
   "execution_count": 51,
   "id": "7988c45e",
   "metadata": {},
   "outputs": [],
   "source": [
    "# creating a base class\n",
    "class Car:\n",
    "    def __init__(self, name, color, speed):\n",
    "        self.name  = name\n",
    "        self.color = color\n",
    "        self.speed = speed\n",
    "        \n",
    "    def message(self):\n",
    "        print(self.name, self.color, self.speed)\n"
   ]
  },
  {
   "cell_type": "code",
   "execution_count": 54,
   "id": "88ef6199",
   "metadata": {},
   "outputs": [],
   "source": [
    "model1 = Car(\"Ford\", \"white\", 200)"
   ]
  },
  {
   "cell_type": "code",
   "execution_count": 55,
   "id": "0012bbce",
   "metadata": {},
   "outputs": [
    {
     "name": "stdout",
     "output_type": "stream",
     "text": [
      "Ford white 200\n"
     ]
    }
   ],
   "source": [
    "model1.message()"
   ]
  },
  {
   "cell_type": "code",
   "execution_count": 60,
   "id": "92c9d7b8",
   "metadata": {},
   "outputs": [],
   "source": [
    "# creating a class that inherits attributes and methods from the Car class\n",
    "\n",
    "class Car1(Car):\n",
    "    pass"
   ]
  },
  {
   "cell_type": "code",
   "execution_count": 62,
   "id": "a841a332",
   "metadata": {},
   "outputs": [
    {
     "name": "stdout",
     "output_type": "stream",
     "text": [
      "Harrier Gray 280\n"
     ]
    }
   ],
   "source": [
    "model2 = Car1(\"Harrier\", \"Gray\", 280)\n",
    "\n",
    "model2.message()  # notice we are accessing the message() in the Car \"parent class\""
   ]
  },
  {
   "cell_type": "code",
   "execution_count": 63,
   "id": "9867abb9",
   "metadata": {},
   "outputs": [],
   "source": [
    "class Car1(Car):\n",
    "    def __init__(self, name, color, speed):\n",
    "        Car.__init__(self, name, color, speed)"
   ]
  },
  {
   "cell_type": "code",
   "execution_count": 75,
   "id": "634fa100",
   "metadata": {},
   "outputs": [],
   "source": [
    "model2 = Car1(\"X\", \"Red\", 180)"
   ]
  },
  {
   "cell_type": "code",
   "execution_count": 80,
   "id": "ad68a5e1",
   "metadata": {},
   "outputs": [
    {
     "name": "stdout",
     "output_type": "stream",
     "text": [
      "X Red 180\n"
     ]
    }
   ],
   "source": [
    "model2.message()"
   ]
  },
  {
   "cell_type": "code",
   "execution_count": 81,
   "id": "fbda1bdd",
   "metadata": {},
   "outputs": [],
   "source": [
    "# inheriting all the methods and attributes using the super keyword\n",
    "class Car1(Car):\n",
    "    def __init__(self, name, color, speed):\n",
    "        \n",
    "        # do not include self if you use super()\n",
    "        super().__init__(name, color, speed)\n"
   ]
  },
  {
   "cell_type": "code",
   "execution_count": 82,
   "id": "4da66795",
   "metadata": {},
   "outputs": [],
   "source": [
    "model3 = Car1(\"X2\", \"Green\", 180)"
   ]
  },
  {
   "cell_type": "code",
   "execution_count": 83,
   "id": "d222d5d9",
   "metadata": {},
   "outputs": [
    {
     "name": "stdout",
     "output_type": "stream",
     "text": [
      "X2 Green 180\n"
     ]
    }
   ],
   "source": [
    "model3.message()"
   ]
  }
 ],
 "metadata": {
  "kernelspec": {
   "display_name": "Python 3 (ipykernel)",
   "language": "python",
   "name": "python3"
  },
  "language_info": {
   "codemirror_mode": {
    "name": "ipython",
    "version": 3
   },
   "file_extension": ".py",
   "mimetype": "text/x-python",
   "name": "python",
   "nbconvert_exporter": "python",
   "pygments_lexer": "ipython3",
   "version": "3.8.10"
  }
 },
 "nbformat": 4,
 "nbformat_minor": 5
}
