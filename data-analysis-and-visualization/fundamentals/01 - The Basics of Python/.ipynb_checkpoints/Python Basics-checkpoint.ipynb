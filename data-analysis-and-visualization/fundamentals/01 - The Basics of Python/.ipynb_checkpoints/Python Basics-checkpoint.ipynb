{
 "cells": [
  {
   "cell_type": "markdown",
   "id": "68c2832e",
   "metadata": {},
   "source": [
    "\n",
    "# Basics of Python | Concepts\n",
    "\n",
    "\n",
    "##  Strings\n",
    "* Strings are immutable\n"
   ]
  },
  {
   "cell_type": "code",
   "execution_count": 12,
   "id": "4da4461f",
   "metadata": {},
   "outputs": [
    {
     "name": "stdout",
     "output_type": "stream",
     "text": [
      "<class 'str'>\n",
      "<class 'str'>\n",
      "This is a multiple line string literal in python programming. It's very easy as you can see!\n",
      "This is another way to create multiple line\n",
      "for line text paragraph\n",
      "It's easy also!\n"
     ]
    }
   ],
   "source": [
    "msg = \"This is a string\"\n",
    "print(type(msg))\n",
    "\n",
    "# msg2 = \"+260 972 338 617\"\n",
    "print(type(msg2))\n",
    "\n",
    "msg_multiline = \"This is a multiple line string literal \\\n",
    "in python programming. \\\n",
    "It's very easy as you can see!\"\n",
    "\n",
    "\n",
    "print(msg_multiline)\n",
    "\n",
    "\n",
    "# Another way to create multiple line strings\n",
    "msg_multiple_line = \"\"\"This is another way to create multiple line\n",
    "for line text paragraph\n",
    "It's easy also!\"\"\"\n",
    "\n",
    "\n",
    "print(msg_multiple_line)"
   ]
  },
  {
   "cell_type": "markdown",
   "id": "edf2e750",
   "metadata": {},
   "source": [
    "## Working With Strings\n",
    "* Slicing a string"
   ]
  },
  {
   "cell_type": "code",
   "execution_count": 13,
   "id": "71280db6",
   "metadata": {},
   "outputs": [
    {
     "name": "stdout",
     "output_type": "stream",
     "text": [
      "pat\n"
     ]
    }
   ],
   "source": [
    "name = \"patrick\"\n",
    "\n",
    "print(name[0:3]) # This prints pat"
   ]
  },
  {
   "cell_type": "code",
   "execution_count": 14,
   "id": "400ee609",
   "metadata": {},
   "outputs": [
    {
     "name": "stdout",
     "output_type": "stream",
     "text": [
      "patrick\n"
     ]
    }
   ],
   "source": [
    "print(name[:]) # This prints patrick"
   ]
  },
  {
   "cell_type": "code",
   "execution_count": 19,
   "id": "c88c4a0a",
   "metadata": {},
   "outputs": [
    {
     "data": {
      "text/plain": [
       "'rick'"
      ]
     },
     "execution_count": 19,
     "metadata": {},
     "output_type": "execute_result"
    }
   ],
   "source": [
    "name[3:] # This prints rick"
   ]
  },
  {
   "cell_type": "code",
   "execution_count": 18,
   "id": "c0c88704",
   "metadata": {},
   "outputs": [
    {
     "data": {
      "text/plain": [
       "'k'"
      ]
     },
     "execution_count": 18,
     "metadata": {},
     "output_type": "execute_result"
    }
   ],
   "source": [
    "name[-1]"
   ]
  },
  {
   "cell_type": "code",
   "execution_count": 20,
   "id": "a054f8f2",
   "metadata": {},
   "outputs": [
    {
     "data": {
      "text/plain": [
       "'i'"
      ]
     },
     "execution_count": 20,
     "metadata": {},
     "output_type": "execute_result"
    }
   ],
   "source": [
    "name[-3]"
   ]
  },
  {
   "cell_type": "code",
   "execution_count": 21,
   "id": "5af714c7",
   "metadata": {},
   "outputs": [
    {
     "data": {
      "text/plain": [
       "'p'"
      ]
     },
     "execution_count": 21,
     "metadata": {},
     "output_type": "execute_result"
    }
   ],
   "source": [
    "name[-7]"
   ]
  },
  {
   "cell_type": "code",
   "execution_count": 22,
   "id": "d231dadb",
   "metadata": {},
   "outputs": [
    {
     "data": {
      "text/plain": [
       "'patrick'"
      ]
     },
     "execution_count": 22,
     "metadata": {},
     "output_type": "execute_result"
    }
   ],
   "source": [
    "name.lower()"
   ]
  },
  {
   "cell_type": "code",
   "execution_count": 24,
   "id": "c7d337e3",
   "metadata": {},
   "outputs": [
    {
     "data": {
      "text/plain": [
       "'PATRICK'"
      ]
     },
     "execution_count": 24,
     "metadata": {},
     "output_type": "execute_result"
    }
   ],
   "source": [
    "name.upper()"
   ]
  },
  {
   "cell_type": "code",
   "execution_count": 25,
   "id": "c6aa8026",
   "metadata": {},
   "outputs": [
    {
     "data": {
      "text/plain": [
       "'Patrick'"
      ]
     },
     "execution_count": 25,
     "metadata": {},
     "output_type": "execute_result"
    }
   ],
   "source": [
    "name.title()"
   ]
  },
  {
   "cell_type": "code",
   "execution_count": 26,
   "id": "3960e406",
   "metadata": {},
   "outputs": [
    {
     "data": {
      "text/plain": [
       "7"
      ]
     },
     "execution_count": 26,
     "metadata": {},
     "output_type": "execute_result"
    }
   ],
   "source": [
    "len(name)"
   ]
  },
  {
   "cell_type": "code",
   "execution_count": 27,
   "id": "e88dee6a",
   "metadata": {},
   "outputs": [
    {
     "data": {
      "text/plain": [
       "'patrick'"
      ]
     },
     "execution_count": 27,
     "metadata": {},
     "output_type": "execute_result"
    }
   ],
   "source": [
    "name.strip() # removes spaces at the beginning and the end of of a string"
   ]
  },
  {
   "cell_type": "markdown",
   "id": "9f5292c8",
   "metadata": {},
   "source": [
    "## Numbers and Math Operations\n",
    "\n",
    "* NumberTypes: int, float and complex\n",
    "* Conversions: int(), float(), and complex()\n",
    "* Math operations order: (), **, *, /, +, -"
   ]
  },
  {
   "cell_type": "code",
   "execution_count": 28,
   "id": "a939df0a",
   "metadata": {},
   "outputs": [
    {
     "data": {
      "text/plain": [
       "int"
      ]
     },
     "execution_count": 28,
     "metadata": {},
     "output_type": "execute_result"
    }
   ],
   "source": [
    "x = 10\n",
    "type(x)"
   ]
  },
  {
   "cell_type": "code",
   "execution_count": 30,
   "id": "5ea41559",
   "metadata": {},
   "outputs": [
    {
     "data": {
      "text/plain": [
       "10"
      ]
     },
     "execution_count": 30,
     "metadata": {},
     "output_type": "execute_result"
    }
   ],
   "source": [
    "int(x) # converting int to int...."
   ]
  },
  {
   "cell_type": "code",
   "execution_count": 31,
   "id": "155cbe46",
   "metadata": {},
   "outputs": [
    {
     "data": {
      "text/plain": [
       "10.0"
      ]
     },
     "execution_count": 31,
     "metadata": {},
     "output_type": "execute_result"
    }
   ],
   "source": [
    "float(x) # converting int to float"
   ]
  },
  {
   "cell_type": "code",
   "execution_count": 37,
   "id": "6c3e1735",
   "metadata": {},
   "outputs": [
    {
     "data": {
      "text/plain": [
       "11"
      ]
     },
     "execution_count": 37,
     "metadata": {},
     "output_type": "execute_result"
    }
   ],
   "source": [
    "y = \"11\"\n",
    "int(y) # converting string y to int y"
   ]
  },
  {
   "cell_type": "code",
   "execution_count": 38,
   "id": "5c4069f1",
   "metadata": {},
   "outputs": [],
   "source": [
    "z = 4.6"
   ]
  },
  {
   "cell_type": "code",
   "execution_count": 39,
   "id": "03bbcd60",
   "metadata": {},
   "outputs": [
    {
     "data": {
      "text/plain": [
       "4"
      ]
     },
     "execution_count": 39,
     "metadata": {},
     "output_type": "execute_result"
    }
   ],
   "source": [
    "int(z) # converting float to int... Notice > The truncation"
   ]
  },
  {
   "cell_type": "code",
   "execution_count": 40,
   "id": "457bce0b",
   "metadata": {},
   "outputs": [
    {
     "data": {
      "text/plain": [
       "complex"
      ]
     },
     "execution_count": 40,
     "metadata": {},
     "output_type": "execute_result"
    }
   ],
   "source": [
    "# Complex numbers\n",
    "w = 9 + 7j\n",
    "type(w)"
   ]
  },
  {
   "cell_type": "code",
   "execution_count": 41,
   "id": "952242eb",
   "metadata": {},
   "outputs": [
    {
     "data": {
      "text/plain": [
       "(90+0j)"
      ]
     },
     "execution_count": 41,
     "metadata": {},
     "output_type": "execute_result"
    }
   ],
   "source": [
    "complex(90)"
   ]
  },
  {
   "cell_type": "code",
   "execution_count": 42,
   "id": "08b63e69",
   "metadata": {},
   "outputs": [
    {
     "data": {
      "text/plain": [
       "(11+0j)"
      ]
     },
     "execution_count": 42,
     "metadata": {},
     "output_type": "execute_result"
    }
   ],
   "source": [
    "complex(y)"
   ]
  },
  {
   "cell_type": "code",
   "execution_count": 43,
   "id": "4e78d541",
   "metadata": {},
   "outputs": [
    {
     "data": {
      "text/plain": [
       "2.5"
      ]
     },
     "execution_count": 43,
     "metadata": {},
     "output_type": "execute_result"
    }
   ],
   "source": [
    "5 / 2"
   ]
  },
  {
   "cell_type": "code",
   "execution_count": 44,
   "id": "495e07ed",
   "metadata": {},
   "outputs": [
    {
     "data": {
      "text/plain": [
       "2"
      ]
     },
     "execution_count": 44,
     "metadata": {},
     "output_type": "execute_result"
    }
   ],
   "source": [
    "5 // 2 # output is an integer"
   ]
  },
  {
   "cell_type": "code",
   "execution_count": 45,
   "id": "ecb95ee9",
   "metadata": {},
   "outputs": [
    {
     "data": {
      "text/plain": [
       "4"
      ]
     },
     "execution_count": 45,
     "metadata": {},
     "output_type": "execute_result"
    }
   ],
   "source": [
    "2 ** 2 # exponents"
   ]
  },
  {
   "cell_type": "code",
   "execution_count": 46,
   "id": "a6c4333a",
   "metadata": {},
   "outputs": [
    {
     "data": {
      "text/plain": [
       "2"
      ]
     },
     "execution_count": 46,
     "metadata": {},
     "output_type": "execute_result"
    }
   ],
   "source": [
    "11 % 3 # getting the remainder"
   ]
  },
  {
   "cell_type": "code",
   "execution_count": 47,
   "id": "9232a5bd",
   "metadata": {},
   "outputs": [
    {
     "ename": "ZeroDivisionError",
     "evalue": "integer division or modulo by zero",
     "output_type": "error",
     "traceback": [
      "\u001b[0;31m---------------------------------------------------------------------------\u001b[0m",
      "\u001b[0;31mZeroDivisionError\u001b[0m                         Traceback (most recent call last)",
      "Input \u001b[0;32mIn [47]\u001b[0m, in \u001b[0;36m<module>\u001b[0;34m\u001b[0m\n\u001b[0;32m----> 1\u001b[0m \u001b[38;5;241;43m1\u001b[39;49m\u001b[43m \u001b[49m\u001b[38;5;241;43m%\u001b[39;49m\u001b[43m \u001b[49m\u001b[38;5;241;43m0\u001b[39;49m\n",
      "\u001b[0;31mZeroDivisionError\u001b[0m: integer division or modulo by zero"
     ]
    }
   ],
   "source": [
    "1 % 0 # division error occurs"
   ]
  },
  {
   "cell_type": "code",
   "execution_count": 52,
   "id": "51682605",
   "metadata": {},
   "outputs": [
    {
     "name": "stdout",
     "output_type": "stream",
     "text": [
      "value of pi to 3.dp = 3.145\n"
     ]
    }
   ],
   "source": [
    "pi = 3.145 # wrong value of pi...\n",
    "print(f\"value of pi to 3.dp = {pi}\")"
   ]
  },
  {
   "cell_type": "code",
   "execution_count": 55,
   "id": "c73b5028",
   "metadata": {},
   "outputs": [
    {
     "name": "stdout",
     "output_type": "stream",
     "text": [
      "value of pi to 2.dp = 3.15\n"
     ]
    }
   ],
   "source": [
    "print(f\"value of pi to 2.dp = {pi:.2f}\") # notice that the fomart function rounds the value for you.."
   ]
  },
  {
   "cell_type": "code",
   "execution_count": 56,
   "id": "16fc6b9a",
   "metadata": {},
   "outputs": [
    {
     "data": {
      "text/plain": [
       "int"
      ]
     },
     "execution_count": 56,
     "metadata": {},
     "output_type": "execute_result"
    }
   ],
   "source": [
    "v = 3\n",
    "type(v)"
   ]
  },
  {
   "cell_type": "markdown",
   "id": "54fbeff3",
   "metadata": {},
   "source": [
    "## List Data Structure\n",
    "\n",
    "* A list is a mutable and ordered collection of items\n",
    "* List syntax: list((1,2,3,4,5)) or [1,2,3,4,5]\n"
   ]
  },
  {
   "cell_type": "code",
   "execution_count": 58,
   "id": "d402511f",
   "metadata": {},
   "outputs": [
    {
     "name": "stdout",
     "output_type": "stream",
     "text": [
      "[]\n",
      "[]\n"
     ]
    }
   ],
   "source": [
    "# List creation\n",
    "new_list = []\n",
    "new_list1 = list()\n",
    "\n",
    "print(new_list)\n",
    "print(new_list1)"
   ]
  },
  {
   "cell_type": "code",
   "execution_count": 59,
   "id": "e79012b2",
   "metadata": {},
   "outputs": [
    {
     "data": {
      "text/plain": [
       "list"
      ]
     },
     "execution_count": 59,
     "metadata": {},
     "output_type": "execute_result"
    }
   ],
   "source": [
    "# Type of list\n",
    "type(new_list)"
   ]
  },
  {
   "cell_type": "code",
   "execution_count": 61,
   "id": "4c35c2e3",
   "metadata": {},
   "outputs": [
    {
     "name": "stdout",
     "output_type": "stream",
     "text": [
      "<class 'list'>\n",
      "<class 'list'>\n"
     ]
    }
   ],
   "source": [
    "# List of numbers\n",
    "nums = [1, 2, 3, 4, 5]\n",
    "nums1 = list((10, 14, 20))\n",
    "\n",
    "print(type(nums))\n",
    "print(type(nums1))"
   ]
  },
  {
   "cell_type": "code",
   "execution_count": 62,
   "id": "e6de75de",
   "metadata": {},
   "outputs": [
    {
     "name": "stdout",
     "output_type": "stream",
     "text": [
      "['Red', 'Green', 'Blue']\n"
     ]
    }
   ],
   "source": [
    "# List of strings\n",
    "str_list = [\"Red\", \"Green\", \"Blue\"]\n",
    "print(str_list)"
   ]
  },
  {
   "cell_type": "code",
   "execution_count": 64,
   "id": "7cba2b50",
   "metadata": {},
   "outputs": [
    {
     "name": "stdout",
     "output_type": "stream",
     "text": [
      "The mixed list: ['blue', True, False, 1, 3, 2.342]\n"
     ]
    }
   ],
   "source": [
    "# Multiple types in a list\n",
    "mixed_list = [\"blue\", True, False, 1, 3, 2.342]\n",
    "print(f\"The mixed list: {mixed_list}\")"
   ]
  },
  {
   "cell_type": "code",
   "execution_count": 67,
   "id": "00b8b572",
   "metadata": {},
   "outputs": [
    {
     "name": "stdout",
     "output_type": "stream",
     "text": [
      "[1, 2, [3, 4, 5, 2, 1, 4, 2], 3, 4, 5]\n"
     ]
    }
   ],
   "source": [
    "# List in a list (nested lists)\n",
    "nums = [1, 2, [3, 4, 5, 2, 1, 4, 2], 3, 4, 5]\n",
    "print(nums) "
   ]
  },
  {
   "cell_type": "code",
   "execution_count": 71,
   "id": "3446deed",
   "metadata": {},
   "outputs": [
    {
     "name": "stdout",
     "output_type": "stream",
     "text": [
      "1\n",
      "2\n",
      "[3, 4, 5, 2, 1, 4, 2]\n",
      "5\n"
     ]
    }
   ],
   "source": [
    "# Accessing list items with the index number\n",
    "print(nums[0])\n",
    "print(nums[1])\n",
    "print(nums[2])\n",
    "print(nums[-1])"
   ]
  },
  {
   "cell_type": "code",
   "execution_count": 73,
   "id": "e30fe7ad",
   "metadata": {},
   "outputs": [
    {
     "data": {
      "text/plain": [
       "6"
      ]
     },
     "execution_count": 73,
     "metadata": {},
     "output_type": "execute_result"
    }
   ],
   "source": [
    "# Knowing the number of items in a list\n",
    "len(nums)"
   ]
  },
  {
   "cell_type": "code",
   "execution_count": 74,
   "id": "7863caae",
   "metadata": {},
   "outputs": [
    {
     "data": {
      "text/plain": [
       "[1, 2, [3, 4, 5, 2, 1, 4, 2]]"
      ]
     },
     "execution_count": 74,
     "metadata": {},
     "output_type": "execute_result"
    }
   ],
   "source": [
    "nums[0:3]"
   ]
  },
  {
   "cell_type": "code",
   "execution_count": 75,
   "id": "e6418542",
   "metadata": {},
   "outputs": [
    {
     "data": {
      "text/plain": [
       "['Red', 'Green', 'Blue']"
      ]
     },
     "execution_count": 75,
     "metadata": {},
     "output_type": "execute_result"
    }
   ],
   "source": [
    "# Using the 'in' keywords to check if item is in list\n",
    "str_list"
   ]
  },
  {
   "cell_type": "code",
   "execution_count": 76,
   "id": "2ac1f62e",
   "metadata": {},
   "outputs": [
    {
     "data": {
      "text/plain": [
       "True"
      ]
     },
     "execution_count": 76,
     "metadata": {},
     "output_type": "execute_result"
    }
   ],
   "source": [
    "\"Red\" in str_list"
   ]
  },
  {
   "cell_type": "code",
   "execution_count": 77,
   "id": "647a779e",
   "metadata": {},
   "outputs": [
    {
     "data": {
      "text/plain": [
       "False"
      ]
     },
     "execution_count": 77,
     "metadata": {},
     "output_type": "execute_result"
    }
   ],
   "source": [
    "\"Yello\" in str_list"
   ]
  },
  {
   "cell_type": "code",
   "execution_count": 78,
   "id": "6edcf0dc",
   "metadata": {},
   "outputs": [
    {
     "ename": "NameError",
     "evalue": "name 'Yello' is not defined",
     "output_type": "error",
     "traceback": [
      "\u001b[0;31m---------------------------------------------------------------------------\u001b[0m",
      "\u001b[0;31mNameError\u001b[0m                                 Traceback (most recent call last)",
      "Input \u001b[0;32mIn [78]\u001b[0m, in \u001b[0;36m<module>\u001b[0;34m\u001b[0m\n\u001b[0;32m----> 1\u001b[0m \u001b[43mYello\u001b[49m \u001b[38;5;129;01min\u001b[39;00m str_list\n",
      "\u001b[0;31mNameError\u001b[0m: name 'Yello' is not defined"
     ]
    }
   ],
   "source": [
    "Yello in str_list"
   ]
  },
  {
   "cell_type": "code",
   "execution_count": 79,
   "id": "ee8cab2e",
   "metadata": {},
   "outputs": [
    {
     "data": {
      "text/plain": [
       "False"
      ]
     },
     "execution_count": 79,
     "metadata": {},
     "output_type": "execute_result"
    }
   ],
   "source": [
    "\"Blue\"  not in str_list"
   ]
  },
  {
   "cell_type": "code",
   "execution_count": 83,
   "id": "3aa5af4b",
   "metadata": {},
   "outputs": [
    {
     "name": "stdout",
     "output_type": "stream",
     "text": [
      "Before appending new color to str_list: \n",
      "['Red', 'Green', 'Blue', 'Purple', 'Purple']\n",
      "\n",
      "After appeding Purple to srt_list: \n",
      "['Red', 'Green', 'Blue', 'Purple', 'Purple', 'Purple']\n"
     ]
    }
   ],
   "source": [
    "# Appending items to a list \n",
    "print(\"Before appending new color to str_list: \")\n",
    "print(str_list)\n",
    "\n",
    "print(\"\\nAfter appeding Purple to srt_list: \")\n",
    "str_list.append(\"Purple\")\n",
    "print(str_list)"
   ]
  },
  {
   "cell_type": "code",
   "execution_count": 85,
   "id": "acc7de99",
   "metadata": {},
   "outputs": [
    {
     "name": "stdout",
     "output_type": "stream",
     "text": [
      "Inserting White at index position 0\n",
      "['White', 'White', 'Red', 'Green', 'Blue', 'Purple', 'Purple', 'Purple']\n"
     ]
    }
   ],
   "source": [
    "# Inserting items at a specific index\n",
    "print(\"Inserting White at index position 0\")\n",
    "str_list.insert(0, \"White\")\n",
    "print(str_list)"
   ]
  },
  {
   "cell_type": "code",
   "execution_count": 86,
   "id": "f22a51df",
   "metadata": {},
   "outputs": [
    {
     "data": {
      "text/plain": [
       "'Blue'"
      ]
     },
     "execution_count": 86,
     "metadata": {},
     "output_type": "execute_result"
    }
   ],
   "source": [
    "# Removing item from a specific position\n",
    "str_list.pop(4)"
   ]
  },
  {
   "cell_type": "code",
   "execution_count": 87,
   "id": "ee8faeff",
   "metadata": {},
   "outputs": [
    {
     "data": {
      "text/plain": [
       "['White', 'White', 'Red', 'Green', 'Purple', 'Purple', 'Purple']"
      ]
     },
     "execution_count": 87,
     "metadata": {},
     "output_type": "execute_result"
    }
   ],
   "source": [
    "str_list # Notice that blue is no longer in str_list"
   ]
  },
  {
   "cell_type": "code",
   "execution_count": 88,
   "id": "175c002a",
   "metadata": {},
   "outputs": [
    {
     "data": {
      "text/plain": [
       "'Purple'"
      ]
     },
     "execution_count": 88,
     "metadata": {},
     "output_type": "execute_result"
    }
   ],
   "source": [
    "# Removing the last item in str_list\n",
    "str_list.pop(-1)"
   ]
  },
  {
   "cell_type": "code",
   "execution_count": 89,
   "id": "ca710411",
   "metadata": {},
   "outputs": [
    {
     "data": {
      "text/plain": [
       "['White', 'White', 'Red', 'Green', 'Purple', 'Purple']"
      ]
     },
     "execution_count": 89,
     "metadata": {},
     "output_type": "execute_result"
    }
   ],
   "source": [
    "str_list"
   ]
  },
  {
   "cell_type": "code",
   "execution_count": 110,
   "id": "df7310b3",
   "metadata": {},
   "outputs": [
    {
     "name": "stdout",
     "output_type": "stream",
     "text": [
      "Blue\n",
      "Items remaining in str_list: \n",
      "['Red']\n"
     ]
    }
   ],
   "source": [
    "# One shotcut to remove last item is using pop() without any arguments\n",
    "# Note str_list has been altered\n",
    "print(str_list.pop(0))\n",
    "str_list[-1] = \"Red\"\n",
    "\n",
    "print(f\"Items remaining in str_list: \\n{str_list}\")"
   ]
  },
  {
   "cell_type": "code",
   "execution_count": 111,
   "id": "21248f72",
   "metadata": {},
   "outputs": [
    {
     "data": {
      "text/plain": [
       "['Red', 'indigo', 'orange', 'magenta']"
      ]
     },
     "execution_count": 111,
     "metadata": {},
     "output_type": "execute_result"
    }
   ],
   "source": [
    "# Adding many items or extending i.e adding more than one item\n",
    "str_list.extend([\"indigo\", \"orange\", \"magenta\"])\n",
    "str_list"
   ]
  },
  {
   "cell_type": "code",
   "execution_count": 112,
   "id": "c7ea9000",
   "metadata": {},
   "outputs": [
    {
     "data": {
      "text/plain": [
       "['indigo', 'orange', 'magenta']"
      ]
     },
     "execution_count": 112,
     "metadata": {},
     "output_type": "execute_result"
    }
   ],
   "source": [
    "# Using del \n",
    "del str_list[0]\n",
    "str_list"
   ]
  },
  {
   "cell_type": "code",
   "execution_count": 113,
   "id": "0d007651",
   "metadata": {},
   "outputs": [],
   "source": [
    "# deleting the list entirely\n",
    "del str_list"
   ]
  },
  {
   "cell_type": "code",
   "execution_count": 114,
   "id": "a1a93c40",
   "metadata": {},
   "outputs": [
    {
     "ename": "NameError",
     "evalue": "name 'str_list' is not defined",
     "output_type": "error",
     "traceback": [
      "\u001b[0;31m---------------------------------------------------------------------------\u001b[0m",
      "\u001b[0;31mNameError\u001b[0m                                 Traceback (most recent call last)",
      "Input \u001b[0;32mIn [114]\u001b[0m, in \u001b[0;36m<module>\u001b[0;34m\u001b[0m\n\u001b[0;32m----> 1\u001b[0m \u001b[43mstr_list\u001b[49m\n",
      "\u001b[0;31mNameError\u001b[0m: name 'str_list' is not defined"
     ]
    }
   ],
   "source": [
    "str_list  # error will occure since the str_list is deleted"
   ]
  },
  {
   "cell_type": "markdown",
   "id": "152e7f7d",
   "metadata": {},
   "source": [
    "## Tuple Data Structure\n",
    "* Tuple is a collection of items\n",
    "* Tuple is immutable and ordered sequence\n",
    "* Syntax: tuple((1, 2, 3)) or (1, 2, 3)\n"
   ]
  },
  {
   "cell_type": "code",
   "execution_count": 118,
   "id": "bc9dd16f",
   "metadata": {},
   "outputs": [],
   "source": [
    "# methods of creating tuples\n",
    "nums = tuple((1, 2, 3, 4, 5, 6))\n",
    "nums1 = (1, 2, 3, 4, 5, 6, 7, 8)"
   ]
  },
  {
   "cell_type": "code",
   "execution_count": 122,
   "id": "a0728d0c",
   "metadata": {},
   "outputs": [
    {
     "name": "stdout",
     "output_type": "stream",
     "text": [
      "<class 'tuple'>\n",
      "<class 'tuple'>\n"
     ]
    }
   ],
   "source": [
    "# Checking types \n",
    "print(type(nums))"
   ]
  },
  {
   "cell_type": "code",
   "execution_count": 123,
   "id": "c32ecfa7",
   "metadata": {},
   "outputs": [
    {
     "data": {
      "text/plain": [
       "tuple"
      ]
     },
     "execution_count": 123,
     "metadata": {},
     "output_type": "execute_result"
    }
   ],
   "source": [
    "# just calling the type() alone\n",
    "type(nums1)"
   ]
  },
  {
   "cell_type": "code",
   "execution_count": 124,
   "id": "bf7c6655",
   "metadata": {},
   "outputs": [
    {
     "data": {
      "text/plain": [
       "8"
      ]
     },
     "execution_count": 124,
     "metadata": {},
     "output_type": "execute_result"
    }
   ],
   "source": [
    "# invoking the len()\n",
    "len(nums1)"
   ]
  },
  {
   "cell_type": "code",
   "execution_count": 125,
   "id": "d98c851d",
   "metadata": {},
   "outputs": [
    {
     "data": {
      "text/plain": [
       "(1, 2, 3)"
      ]
     },
     "execution_count": 125,
     "metadata": {},
     "output_type": "execute_result"
    }
   ],
   "source": [
    "# using index numbers to access items\n",
    "nums1[0:3]"
   ]
  },
  {
   "cell_type": "code",
   "execution_count": 126,
   "id": "632a5233",
   "metadata": {},
   "outputs": [
    {
     "ename": "TypeError",
     "evalue": "'tuple' object does not support item assignment",
     "output_type": "error",
     "traceback": [
      "\u001b[0;31m---------------------------------------------------------------------------\u001b[0m",
      "\u001b[0;31mTypeError\u001b[0m                                 Traceback (most recent call last)",
      "Input \u001b[0;32mIn [126]\u001b[0m, in \u001b[0;36m<module>\u001b[0;34m\u001b[0m\n\u001b[1;32m      1\u001b[0m \u001b[38;5;66;03m# tuples are immutable\u001b[39;00m\n\u001b[0;32m----> 2\u001b[0m nums1[\u001b[38;5;241m1\u001b[39m] \u001b[38;5;241m=\u001b[39m \u001b[38;5;241m10\u001b[39m\n",
      "\u001b[0;31mTypeError\u001b[0m: 'tuple' object does not support item assignment"
     ]
    }
   ],
   "source": [
    "# tuples are immutable\n",
    "nums1[1] = 10 # this causes an error"
   ]
  },
  {
   "cell_type": "code",
   "execution_count": null,
   "id": "dd6eb6de",
   "metadata": {},
   "outputs": [],
   "source": [
    "# Note; You can change the tuple's variable\n",
    "# and not a specific item\n"
   ]
  },
  {
   "cell_type": "code",
   "execution_count": 128,
   "id": "031901db",
   "metadata": {},
   "outputs": [
    {
     "data": {
      "text/plain": [
       "('Orange', 'Cherry', 'Lemon')"
      ]
     },
     "execution_count": 128,
     "metadata": {},
     "output_type": "execute_result"
    }
   ],
   "source": [
    "# Checking items in a tuple\n",
    "fruits = tuple((\"Orange\", \"Cherry\", \"Lemon\"))\n",
    "fruits"
   ]
  },
  {
   "cell_type": "code",
   "execution_count": 129,
   "id": "3b568454",
   "metadata": {},
   "outputs": [
    {
     "data": {
      "text/plain": [
       "False"
      ]
     },
     "execution_count": 129,
     "metadata": {},
     "output_type": "execute_result"
    }
   ],
   "source": [
    "\"Orange\" not in fruits"
   ]
  },
  {
   "cell_type": "code",
   "execution_count": 130,
   "id": "d9a741bf",
   "metadata": {},
   "outputs": [
    {
     "data": {
      "text/plain": [
       "True"
      ]
     },
     "execution_count": 130,
     "metadata": {},
     "output_type": "execute_result"
    }
   ],
   "source": [
    "\"Lemon\" in fruits"
   ]
  },
  {
   "cell_type": "code",
   "execution_count": 132,
   "id": "0a521c2d",
   "metadata": {},
   "outputs": [
    {
     "ename": "TypeError",
     "evalue": "'tuple' object doesn't support item deletion",
     "output_type": "error",
     "traceback": [
      "\u001b[0;31m---------------------------------------------------------------------------\u001b[0m",
      "\u001b[0;31mTypeError\u001b[0m                                 Traceback (most recent call last)",
      "Input \u001b[0;32mIn [132]\u001b[0m, in \u001b[0;36m<module>\u001b[0;34m\u001b[0m\n\u001b[1;32m      1\u001b[0m \u001b[38;5;66;03m# Using del to delete a tuple item\u001b[39;00m\n\u001b[1;32m      2\u001b[0m \u001b[38;5;66;03m# take note of the error\u001b[39;00m\n\u001b[0;32m----> 4\u001b[0m \u001b[38;5;28;01mdel\u001b[39;00m fruits[\u001b[38;5;241m0\u001b[39m]\n\u001b[1;32m      5\u001b[0m fruits\n",
      "\u001b[0;31mTypeError\u001b[0m: 'tuple' object doesn't support item deletion"
     ]
    }
   ],
   "source": [
    "# Using del to delete a tuple item\n",
    "# take note of the error\n",
    "\n",
    "del fruits[0]\n",
    "fruits"
   ]
  },
  {
   "cell_type": "code",
   "execution_count": 133,
   "id": "48dd6d54",
   "metadata": {},
   "outputs": [
    {
     "ename": "NameError",
     "evalue": "name 'fruits' is not defined",
     "output_type": "error",
     "traceback": [
      "\u001b[0;31m---------------------------------------------------------------------------\u001b[0m",
      "\u001b[0;31mNameError\u001b[0m                                 Traceback (most recent call last)",
      "Input \u001b[0;32mIn [133]\u001b[0m, in \u001b[0;36m<module>\u001b[0;34m\u001b[0m\n\u001b[1;32m      1\u001b[0m \u001b[38;5;66;03m# Using del to delete a tuple\u001b[39;00m\n\u001b[1;32m      2\u001b[0m \u001b[38;5;28;01mdel\u001b[39;00m fruits\n\u001b[0;32m----> 3\u001b[0m \u001b[43mfruits\u001b[49m\n",
      "\u001b[0;31mNameError\u001b[0m: name 'fruits' is not defined"
     ]
    }
   ],
   "source": [
    "# Using del to delete a tuple notice it was deleted...\n",
    "del fruits\n",
    "fruits"
   ]
  },
  {
   "cell_type": "markdown",
   "id": "fd83eae6",
   "metadata": {},
   "source": [
    "## Dictionary Sequence\n",
    "* Dictionary is mutable key value pairs to store collections\n",
    "* Syntax: {key: Value} or dict({key: Value})"
   ]
  },
  {
   "cell_type": "code",
   "execution_count": null,
   "id": "76f6d46a",
   "metadata": {},
   "outputs": [],
   "source": [
    "# methods of creating dictionaries..."
   ]
  },
  {
   "cell_type": "code",
   "execution_count": 139,
   "id": "5085eac8",
   "metadata": {},
   "outputs": [
    {
     "name": "stdout",
     "output_type": "stream",
     "text": [
      "{'Ronaldo': 36, 'Messi': 34, 'Salah': 37}\n"
     ]
    }
   ],
   "source": [
    "top_players = {\n",
    "    \"Ronaldo\": 36,\n",
    "    \"Messi\"  : 34,\n",
    "    \"Salah\"  : 37\n",
    "}\n",
    "\n",
    "more_players = dict(\n",
    "\n",
    "    {\n",
    "        \"Dany\": 33,\n",
    "        \"Sane\": 24, \n",
    "        \"San\" : 30\n",
    "    }\n",
    ")\n"
   ]
  },
  {
   "cell_type": "code",
   "execution_count": 140,
   "id": "892e71bb",
   "metadata": {},
   "outputs": [
    {
     "name": "stdout",
     "output_type": "stream",
     "text": [
      "<class 'dict'>\n",
      "<class 'dict'>\n"
     ]
    }
   ],
   "source": [
    "# checking types of dictionary\n",
    "print(type(top_players))\n",
    "print(type(more_players))"
   ]
  },
  {
   "cell_type": "code",
   "execution_count": 144,
   "id": "f8d17f4a",
   "metadata": {},
   "outputs": [],
   "source": [
    "# Inserting tuples inside a dictionary\n",
    "children = dict(\n",
    "    {\n",
    "        (\"child1\", 4),\n",
    "        (\"child2\", \"5\"),\n",
    "        (\"child3\", \"6\"),\n",
    "        (\"child4\", \"7\"),\n",
    "    }\n",
    ")\n"
   ]
  },
  {
   "cell_type": "code",
   "execution_count": 145,
   "id": "330b19f0",
   "metadata": {},
   "outputs": [
    {
     "data": {
      "text/plain": [
       "dict"
      ]
     },
     "execution_count": 145,
     "metadata": {},
     "output_type": "execute_result"
    }
   ],
   "source": [
    "type(children)"
   ]
  },
  {
   "cell_type": "code",
   "execution_count": 148,
   "id": "9a684332",
   "metadata": {},
   "outputs": [
    {
     "name": "stdout",
     "output_type": "stream",
     "text": [
      "36\n",
      "34\n",
      "37\n"
     ]
    }
   ],
   "source": [
    "# Accessing elements in a dictionary using keys\n",
    "print(top_players[\"Ronaldo\"])\n",
    "print(top_players[\"Messi\"])\n",
    "print(top_players[\"Salah\"])"
   ]
  },
  {
   "cell_type": "code",
   "execution_count": 153,
   "id": "06bbce59",
   "metadata": {},
   "outputs": [
    {
     "data": {
      "text/plain": [
       "str"
      ]
     },
     "execution_count": 153,
     "metadata": {},
     "output_type": "execute_result"
    }
   ],
   "source": [
    "type(children[\"child1\"])"
   ]
  },
  {
   "cell_type": "code",
   "execution_count": 155,
   "id": "efd96594",
   "metadata": {},
   "outputs": [],
   "source": [
    "# del keyword to remove item \n",
    "\n",
    "del top_players[\"Salah\"]"
   ]
  },
  {
   "cell_type": "code",
   "execution_count": 156,
   "id": "4d7e3159",
   "metadata": {},
   "outputs": [
    {
     "data": {
      "text/plain": [
       "{'Ronaldo': 36, 'Messi': 34}"
      ]
     },
     "execution_count": 156,
     "metadata": {},
     "output_type": "execute_result"
    }
   ],
   "source": [
    "top_players"
   ]
  },
  {
   "cell_type": "code",
   "execution_count": 157,
   "id": "4b0a8722",
   "metadata": {},
   "outputs": [
    {
     "data": {
      "text/plain": [
       "False"
      ]
     },
     "execution_count": 157,
     "metadata": {},
     "output_type": "execute_result"
    }
   ],
   "source": [
    "# check item \n",
    "\n",
    "\"Sala\" in top_players"
   ]
  },
  {
   "cell_type": "code",
   "execution_count": 158,
   "id": "3856b499",
   "metadata": {},
   "outputs": [
    {
     "data": {
      "text/plain": [
       "True"
      ]
     },
     "execution_count": 158,
     "metadata": {},
     "output_type": "execute_result"
    }
   ],
   "source": [
    "\"Ronaldo\" in top_players"
   ]
  },
  {
   "cell_type": "markdown",
   "id": "cc1431de",
   "metadata": {},
   "source": [
    "## Sets Data Structure\n",
    "\n",
    "* Set is unorderd and immutable collection of items\n",
    "* No duplicates in sets\n",
    "* Syntax: {1, 2, 3} or set([1, 2, 3])"
   ]
  },
  {
   "cell_type": "code",
   "execution_count": 164,
   "id": "6c87cc11",
   "metadata": {},
   "outputs": [],
   "source": [
    "# methods of creating sets\n",
    "set_of_nums = set([1, 2, 3, 23, 25, 34])\n",
    "set_of_nums1 = {1, 3, 4, 34 ,232 ,423 ,422}"
   ]
  },
  {
   "cell_type": "code",
   "execution_count": 166,
   "id": "a27577df",
   "metadata": {},
   "outputs": [
    {
     "name": "stdout",
     "output_type": "stream",
     "text": [
      "<class 'set'>\n"
     ]
    },
    {
     "data": {
      "text/plain": [
       "set"
      ]
     },
     "execution_count": 166,
     "metadata": {},
     "output_type": "execute_result"
    }
   ],
   "source": [
    "# checking types\n",
    "print(type(set_of_nums))\n",
    "type(set_of_nums)"
   ]
  },
  {
   "cell_type": "code",
   "execution_count": 167,
   "id": "69049aa1",
   "metadata": {},
   "outputs": [
    {
     "data": {
      "text/plain": [
       "{'P', 'h', 'n', 'o', 't', 'y'}"
      ]
     },
     "execution_count": 167,
     "metadata": {},
     "output_type": "execute_result"
    }
   ],
   "source": [
    "# Using a set() to convert string to set\n",
    "set(\"Python\")"
   ]
  },
  {
   "cell_type": "code",
   "execution_count": 174,
   "id": "22bf9c33",
   "metadata": {},
   "outputs": [
    {
     "data": {
      "text/plain": [
       "list"
      ]
     },
     "execution_count": 174,
     "metadata": {},
     "output_type": "execute_result"
    }
   ],
   "source": [
    "sample_set = set(\"Python\")\n",
    "type((list(sample_set)))"
   ]
  },
  {
   "cell_type": "code",
   "execution_count": 175,
   "id": "2a9872be",
   "metadata": {},
   "outputs": [
    {
     "name": "stdout",
     "output_type": "stream",
     "text": [
      "{1, 3}\n"
     ]
    }
   ],
   "source": [
    "# a set containing a dictionary\n",
    "x = set({1: \"none\", 3: \"age\"})\n",
    "print(x)"
   ]
  },
  {
   "cell_type": "code",
   "execution_count": 178,
   "id": "b9ec5d54",
   "metadata": {},
   "outputs": [
    {
     "data": {
      "text/plain": [
       "set"
      ]
     },
     "execution_count": 178,
     "metadata": {},
     "output_type": "execute_result"
    }
   ],
   "source": [
    "type(x)"
   ]
  },
  {
   "cell_type": "code",
   "execution_count": 180,
   "id": "7b250eba",
   "metadata": {},
   "outputs": [],
   "source": [
    "# deleting a set\n",
    "del x"
   ]
  },
  {
   "cell_type": "code",
   "execution_count": 181,
   "id": "c22c0fc6",
   "metadata": {},
   "outputs": [
    {
     "ename": "NameError",
     "evalue": "name 'x' is not defined",
     "output_type": "error",
     "traceback": [
      "\u001b[0;31m---------------------------------------------------------------------------\u001b[0m",
      "\u001b[0;31mNameError\u001b[0m                                 Traceback (most recent call last)",
      "Input \u001b[0;32mIn [181]\u001b[0m, in \u001b[0;36m<module>\u001b[0;34m\u001b[0m\n\u001b[0;32m----> 1\u001b[0m \u001b[43mx\u001b[49m\n",
      "\u001b[0;31mNameError\u001b[0m: name 'x' is not defined"
     ]
    }
   ],
   "source": [
    "x"
   ]
  }
 ],
 "metadata": {
  "kernelspec": {
   "display_name": "Python 3 (ipykernel)",
   "language": "python",
   "name": "python3"
  },
  "language_info": {
   "codemirror_mode": {
    "name": "ipython",
    "version": 3
   },
   "file_extension": ".py",
   "mimetype": "text/x-python",
   "name": "python",
   "nbconvert_exporter": "python",
   "pygments_lexer": "ipython3",
   "version": "3.8.10"
  }
 },
 "nbformat": 4,
 "nbformat_minor": 5
}
