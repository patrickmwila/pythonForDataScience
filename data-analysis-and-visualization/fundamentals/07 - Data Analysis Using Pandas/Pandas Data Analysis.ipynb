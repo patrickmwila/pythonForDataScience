{
 "cells": [
  {
   "cell_type": "markdown",
   "id": "0aa21de8",
   "metadata": {},
   "source": [
    "# Pandas  Library\n",
    "* Pandas is an open source and powerful python library\n",
    "* Pandas for data Analysis and Visualization (different types of files)\n",
    "* Pandas Data Structures (Series and Data Frame) and Analyze files\n",
    "*import pandas as pd"
   ]
  },
  {
   "cell_type": "code",
   "execution_count": 1,
   "id": "cd79473f",
   "metadata": {},
   "outputs": [],
   "source": [
    "import pandas as pd"
   ]
  },
  {
   "cell_type": "code",
   "execution_count": 2,
   "id": "febb6c60",
   "metadata": {},
   "outputs": [],
   "source": [
    "# creating a series \n",
    "var_series = pd.Series([10, 20, 30, 40])"
   ]
  },
  {
   "cell_type": "code",
   "execution_count": 3,
   "id": "91189c70",
   "metadata": {},
   "outputs": [
    {
     "data": {
      "text/plain": [
       "0    10\n",
       "1    20\n",
       "2    30\n",
       "3    40\n",
       "dtype: int64"
      ]
     },
     "execution_count": 3,
     "metadata": {},
     "output_type": "execute_result"
    }
   ],
   "source": [
    "var_series"
   ]
  },
  {
   "cell_type": "code",
   "execution_count": 5,
   "id": "a28cba8c",
   "metadata": {},
   "outputs": [],
   "source": [
    "# using your own index\n",
    "set_index = pd.Series([10, 20, 30, 40], index=[\"a\", \"b\", \"c\", \"d\"])"
   ]
  },
  {
   "cell_type": "code",
   "execution_count": 6,
   "id": "4a0be2f9",
   "metadata": {},
   "outputs": [
    {
     "data": {
      "text/plain": [
       "a    10\n",
       "b    20\n",
       "c    30\n",
       "d    40\n",
       "dtype: int64"
      ]
     },
     "execution_count": 6,
     "metadata": {},
     "output_type": "execute_result"
    }
   ],
   "source": [
    "set_index"
   ]
  },
  {
   "cell_type": "code",
   "execution_count": null,
   "id": "5182d705",
   "metadata": {},
   "outputs": [],
   "source": [
    "# Data Frames in Pandas\n",
    "# consist of 2D data row, col\n",
    "# can work with csf, exel files, etc..."
   ]
  },
  {
   "cell_type": "code",
   "execution_count": 7,
   "id": "a9becc38",
   "metadata": {},
   "outputs": [],
   "source": [
    "colors = [\"red\", \"orange\", \"yellow\", \"white\"]\n",
    "degrees = [30, 40, 50, 60]\n",
    "numbers = [11, 12, 13, 14]\n",
    "\n",
    "\n",
    "# the rows will be the columns from our data structure\n",
    "data_frame = pd.DataFrame(\n",
    "    {\"colors\": colors, \"degrees\": degrees, \"numbers\": numbers},\n",
    "    columns = [\"colors\", \"degrees\", \"numbers\"],\n",
    "    index=range(1, 5)\n",
    ")"
   ]
  },
  {
   "cell_type": "code",
   "execution_count": 8,
   "id": "91a0e89b",
   "metadata": {},
   "outputs": [
    {
     "data": {
      "text/html": [
       "<div>\n",
       "<style scoped>\n",
       "    .dataframe tbody tr th:only-of-type {\n",
       "        vertical-align: middle;\n",
       "    }\n",
       "\n",
       "    .dataframe tbody tr th {\n",
       "        vertical-align: top;\n",
       "    }\n",
       "\n",
       "    .dataframe thead th {\n",
       "        text-align: right;\n",
       "    }\n",
       "</style>\n",
       "<table border=\"1\" class=\"dataframe\">\n",
       "  <thead>\n",
       "    <tr style=\"text-align: right;\">\n",
       "      <th></th>\n",
       "      <th>colors</th>\n",
       "      <th>degrees</th>\n",
       "      <th>numbers</th>\n",
       "    </tr>\n",
       "  </thead>\n",
       "  <tbody>\n",
       "    <tr>\n",
       "      <th>1</th>\n",
       "      <td>red</td>\n",
       "      <td>30</td>\n",
       "      <td>11</td>\n",
       "    </tr>\n",
       "    <tr>\n",
       "      <th>2</th>\n",
       "      <td>orange</td>\n",
       "      <td>40</td>\n",
       "      <td>12</td>\n",
       "    </tr>\n",
       "    <tr>\n",
       "      <th>3</th>\n",
       "      <td>yellow</td>\n",
       "      <td>50</td>\n",
       "      <td>13</td>\n",
       "    </tr>\n",
       "    <tr>\n",
       "      <th>4</th>\n",
       "      <td>white</td>\n",
       "      <td>60</td>\n",
       "      <td>14</td>\n",
       "    </tr>\n",
       "  </tbody>\n",
       "</table>\n",
       "</div>"
      ],
      "text/plain": [
       "   colors  degrees  numbers\n",
       "1     red       30       11\n",
       "2  orange       40       12\n",
       "3  yellow       50       13\n",
       "4   white       60       14"
      ]
     },
     "execution_count": 8,
     "metadata": {},
     "output_type": "execute_result"
    }
   ],
   "source": [
    "data_frame"
   ]
  },
  {
   "cell_type": "markdown",
   "id": "a443298a",
   "metadata": {},
   "source": [
    "# Reading csv Files"
   ]
  },
  {
   "cell_type": "code",
   "execution_count": 10,
   "id": "a24b8b4a",
   "metadata": {},
   "outputs": [],
   "source": [
    "dataframe_csv = pd.read_csv(\"sample10.csv\", low_memory=False)"
   ]
  },
  {
   "cell_type": "code",
   "execution_count": 13,
   "id": "f8aa047a",
   "metadata": {},
   "outputs": [
    {
     "data": {
      "text/html": [
       "<div>\n",
       "<style scoped>\n",
       "    .dataframe tbody tr th:only-of-type {\n",
       "        vertical-align: middle;\n",
       "    }\n",
       "\n",
       "    .dataframe tbody tr th {\n",
       "        vertical-align: top;\n",
       "    }\n",
       "\n",
       "    .dataframe thead th {\n",
       "        text-align: right;\n",
       "    }\n",
       "</style>\n",
       "<table border=\"1\" class=\"dataframe\">\n",
       "  <thead>\n",
       "    <tr style=\"text-align: right;\">\n",
       "      <th></th>\n",
       "      <th>No</th>\n",
       "      <th>Cars</th>\n",
       "      <th>numbers</th>\n",
       "      <th>year</th>\n",
       "      <th>price</th>\n",
       "    </tr>\n",
       "  </thead>\n",
       "  <tbody>\n",
       "    <tr>\n",
       "      <th>0</th>\n",
       "      <td>1</td>\n",
       "      <td>Car1</td>\n",
       "      <td>123</td>\n",
       "      <td>2005</td>\n",
       "      <td>5000</td>\n",
       "    </tr>\n",
       "    <tr>\n",
       "      <th>1</th>\n",
       "      <td>2</td>\n",
       "      <td>Car2</td>\n",
       "      <td>456</td>\n",
       "      <td>2006</td>\n",
       "      <td>6000</td>\n",
       "    </tr>\n",
       "    <tr>\n",
       "      <th>2</th>\n",
       "      <td>3</td>\n",
       "      <td>Car3</td>\n",
       "      <td>789</td>\n",
       "      <td>2007</td>\n",
       "      <td>7000</td>\n",
       "    </tr>\n",
       "    <tr>\n",
       "      <th>3</th>\n",
       "      <td>4</td>\n",
       "      <td>Car4</td>\n",
       "      <td>1011</td>\n",
       "      <td>2008</td>\n",
       "      <td>8000</td>\n",
       "    </tr>\n",
       "    <tr>\n",
       "      <th>4</th>\n",
       "      <td>5</td>\n",
       "      <td>Car5</td>\n",
       "      <td>1213</td>\n",
       "      <td>2009</td>\n",
       "      <td>9000</td>\n",
       "    </tr>\n",
       "    <tr>\n",
       "      <th>5</th>\n",
       "      <td>6</td>\n",
       "      <td>Car6</td>\n",
       "      <td>1415</td>\n",
       "      <td>2010</td>\n",
       "      <td>10000</td>\n",
       "    </tr>\n",
       "    <tr>\n",
       "      <th>6</th>\n",
       "      <td>7</td>\n",
       "      <td>Car7</td>\n",
       "      <td>1617</td>\n",
       "      <td>2011</td>\n",
       "      <td>11000</td>\n",
       "    </tr>\n",
       "    <tr>\n",
       "      <th>7</th>\n",
       "      <td>8</td>\n",
       "      <td>Car8</td>\n",
       "      <td>1819</td>\n",
       "      <td>2012</td>\n",
       "      <td>12000</td>\n",
       "    </tr>\n",
       "    <tr>\n",
       "      <th>8</th>\n",
       "      <td>9</td>\n",
       "      <td>Car9</td>\n",
       "      <td>2011</td>\n",
       "      <td>2013</td>\n",
       "      <td>13000</td>\n",
       "    </tr>\n",
       "    <tr>\n",
       "      <th>9</th>\n",
       "      <td>10</td>\n",
       "      <td>Car10</td>\n",
       "      <td>2356</td>\n",
       "      <td>2014</td>\n",
       "      <td>14000</td>\n",
       "    </tr>\n",
       "  </tbody>\n",
       "</table>\n",
       "</div>"
      ],
      "text/plain": [
       "   No   Cars  numbers  year  price\n",
       "0   1   Car1      123  2005   5000\n",
       "1   2   Car2      456  2006   6000\n",
       "2   3   Car3      789  2007   7000\n",
       "3   4   Car4     1011  2008   8000\n",
       "4   5   Car5     1213  2009   9000\n",
       "5   6   Car6     1415  2010  10000\n",
       "6   7   Car7     1617  2011  11000\n",
       "7   8   Car8     1819  2012  12000\n",
       "8   9   Car9     2011  2013  13000\n",
       "9  10  Car10     2356  2014  14000"
      ]
     },
     "execution_count": 13,
     "metadata": {},
     "output_type": "execute_result"
    }
   ],
   "source": [
    "dataframe_csv"
   ]
  }
 ],
 "metadata": {
  "kernelspec": {
   "display_name": "Python 3 (ipykernel)",
   "language": "python",
   "name": "python3"
  },
  "language_info": {
   "codemirror_mode": {
    "name": "ipython",
    "version": 3
   },
   "file_extension": ".py",
   "mimetype": "text/x-python",
   "name": "python",
   "nbconvert_exporter": "python",
   "pygments_lexer": "ipython3",
   "version": "3.8.10"
  }
 },
 "nbformat": 4,
 "nbformat_minor": 5
}
