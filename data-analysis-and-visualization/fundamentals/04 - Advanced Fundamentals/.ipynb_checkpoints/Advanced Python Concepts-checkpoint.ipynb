{
 "cells": [
  {
   "cell_type": "markdown",
   "id": "df7a2ceb",
   "metadata": {},
   "source": [
    "# List Comprehensions\n",
    "* Short and easy way to create a list from anonther sequence\n",
    "* Syntax: [<b>expression for element in sequence if condition</b>]"
   ]
  },
  {
   "cell_type": "code",
   "execution_count": 1,
   "id": "9c8c572f",
   "metadata": {},
   "outputs": [],
   "source": [
    "# example 1\n",
    "x = range(6)"
   ]
  },
  {
   "cell_type": "code",
   "execution_count": 9,
   "id": "f41b381f",
   "metadata": {},
   "outputs": [],
   "source": [
    "evens = [n for n in x if n % 2 == 0]\n",
    "\n",
    "# the above is read as:\n",
    "# for n in range(0, 5):\n",
    "#     if n % 2 == 0:\n",
    "#         store n in a list called evens i.e:\n",
    "#         evens.append[n]"
   ]
  },
  {
   "cell_type": "code",
   "execution_count": 13,
   "id": "6811775b",
   "metadata": {},
   "outputs": [],
   "source": [
    "# example2  \n",
    "square_nums = [n * n for n in x]"
   ]
  },
  {
   "cell_type": "code",
   "execution_count": 14,
   "id": "d4b78678",
   "metadata": {},
   "outputs": [
    {
     "data": {
      "text/plain": [
       "[0, 1, 4, 9, 16, 25]"
      ]
     },
     "execution_count": 14,
     "metadata": {},
     "output_type": "execute_result"
    }
   ],
   "source": [
    "square_nums"
   ]
  },
  {
   "cell_type": "code",
   "execution_count": 18,
   "id": "449c489e",
   "metadata": {},
   "outputs": [],
   "source": [
    "# the same applies to sets\n",
    "set_of_squares = (n * n for n in x)"
   ]
  },
  {
   "cell_type": "code",
   "execution_count": 20,
   "id": "4f9bcbce",
   "metadata": {},
   "outputs": [
    {
     "data": {
      "text/plain": [
       "{0, 1, 4, 9, 16, 25}"
      ]
     },
     "execution_count": 20,
     "metadata": {},
     "output_type": "execute_result"
    }
   ],
   "source": [
    "set(set_of_squares)"
   ]
  },
  {
   "cell_type": "markdown",
   "id": "83fa874b",
   "metadata": {},
   "source": [
    "# Built-in Modules\n",
    "* Several built-in modules\n",
    "* Modulw: Python file with .py extension\n",
    "* The module must be imported using any method that you know...\n",
    "* Use the <b>import</b> keyword"
   ]
  },
  {
   "cell_type": "code",
   "execution_count": 21,
   "id": "6b8da6a0",
   "metadata": {},
   "outputs": [],
   "source": [
    "# importing modules\n",
    "import random"
   ]
  },
  {
   "cell_type": "code",
   "execution_count": 26,
   "id": "90afcc44",
   "metadata": {},
   "outputs": [],
   "source": [
    "random_num = random.randint"
   ]
  },
  {
   "cell_type": "code",
   "execution_count": 27,
   "id": "c1fed8f1",
   "metadata": {},
   "outputs": [
    {
     "name": "stdout",
     "output_type": "stream",
     "text": [
      "2\n"
     ]
    }
   ],
   "source": [
    "print(random_num(0, 10))"
   ]
  },
  {
   "cell_type": "code",
   "execution_count": 28,
   "id": "6145615b",
   "metadata": {},
   "outputs": [],
   "source": [
    "random_num = random.randint(1, 5)"
   ]
  },
  {
   "cell_type": "code",
   "execution_count": 29,
   "id": "8934f8b9",
   "metadata": {},
   "outputs": [
    {
     "data": {
      "text/plain": [
       "4"
      ]
     },
     "execution_count": 29,
     "metadata": {},
     "output_type": "execute_result"
    }
   ],
   "source": [
    "random_num"
   ]
  },
  {
   "cell_type": "code",
   "execution_count": 31,
   "id": "fcc226f0",
   "metadata": {},
   "outputs": [],
   "source": [
    "# importing specific items\n",
    "from  random import randint, choice"
   ]
  },
  {
   "cell_type": "code",
   "execution_count": 32,
   "id": "821082ea",
   "metadata": {},
   "outputs": [
    {
     "name": "stdout",
     "output_type": "stream",
     "text": [
      "2\n"
     ]
    }
   ],
   "source": [
    "print(choice([1, 2, 3, 4, 5, 6]))"
   ]
  },
  {
   "cell_type": "code",
   "execution_count": 118,
   "id": "8b1281df",
   "metadata": {},
   "outputs": [],
   "source": [
    "num = randint(1, 2) # generate random number between 1 and 2 both inclusive"
   ]
  },
  {
   "cell_type": "code",
   "execution_count": 119,
   "id": "be26eaee",
   "metadata": {},
   "outputs": [
    {
     "data": {
      "text/plain": [
       "2"
      ]
     },
     "execution_count": 119,
     "metadata": {},
     "output_type": "execute_result"
    }
   ],
   "source": [
    "num"
   ]
  },
  {
   "cell_type": "code",
   "execution_count": 113,
   "id": "c490fdc2",
   "metadata": {},
   "outputs": [
    {
     "data": {
      "text/plain": [
       "1"
      ]
     },
     "execution_count": 113,
     "metadata": {},
     "output_type": "execute_result"
    }
   ],
   "source": [
    "num"
   ]
  },
  {
   "cell_type": "code",
   "execution_count": 120,
   "id": "033a3d97",
   "metadata": {},
   "outputs": [
    {
     "data": {
      "text/plain": [
       "2"
      ]
     },
     "execution_count": 120,
     "metadata": {},
     "output_type": "execute_result"
    }
   ],
   "source": [
    "num"
   ]
  },
  {
   "cell_type": "markdown",
   "id": "19736ee0",
   "metadata": {},
   "source": [
    "# Math Module\n",
    "* Import math module to use mathemtical functions\n",
    "* e.g from math import <b>sin</b>, <b>cos</b>, <b>tan</b>, <b>log</b>"
   ]
  },
  {
   "cell_type": "code",
   "execution_count": 121,
   "id": "81af2f5a",
   "metadata": {},
   "outputs": [],
   "source": [
    "import math"
   ]
  },
  {
   "cell_type": "code",
   "execution_count": 122,
   "id": "c6969e19",
   "metadata": {},
   "outputs": [
    {
     "data": {
      "text/plain": [
       "2.23606797749979"
      ]
     },
     "execution_count": 122,
     "metadata": {},
     "output_type": "execute_result"
    }
   ],
   "source": [
    "# sqrt() function\n",
    "math.sqrt(5)"
   ]
  },
  {
   "cell_type": "code",
   "execution_count": 123,
   "id": "24d4b985",
   "metadata": {},
   "outputs": [
    {
     "data": {
      "text/plain": [
       "2.718281828459045"
      ]
     },
     "execution_count": 123,
     "metadata": {},
     "output_type": "execute_result"
    }
   ],
   "source": [
    "math.e"
   ]
  },
  {
   "cell_type": "code",
   "execution_count": 124,
   "id": "4b337765",
   "metadata": {},
   "outputs": [
    {
     "data": {
      "text/plain": [
       "3.141592653589793"
      ]
     },
     "execution_count": 124,
     "metadata": {},
     "output_type": "execute_result"
    }
   ],
   "source": [
    "math.pi"
   ]
  },
  {
   "cell_type": "code",
   "execution_count": 125,
   "id": "97da8cec",
   "metadata": {},
   "outputs": [
    {
     "data": {
      "text/plain": [
       "1.5707963267948966"
      ]
     },
     "execution_count": 125,
     "metadata": {},
     "output_type": "execute_result"
    }
   ],
   "source": [
    "# degrees to radians\n",
    "math.radians(90)"
   ]
  },
  {
   "cell_type": "code",
   "execution_count": 128,
   "id": "be75679e",
   "metadata": {},
   "outputs": [
    {
     "data": {
      "text/plain": [
       "90.0"
      ]
     },
     "execution_count": 128,
     "metadata": {},
     "output_type": "execute_result"
    }
   ],
   "source": [
    "# radians to degrees\n",
    "math.degrees(math.pi / 2)"
   ]
  },
  {
   "cell_type": "code",
   "execution_count": 129,
   "id": "7a1c114b",
   "metadata": {},
   "outputs": [],
   "source": [
    "from math import sin, cos, tan, log"
   ]
  },
  {
   "cell_type": "code",
   "execution_count": 133,
   "id": "9ca0a16a",
   "metadata": {},
   "outputs": [
    {
     "data": {
      "text/plain": [
       "1.2246467991473532e-16"
      ]
     },
     "execution_count": 133,
     "metadata": {},
     "output_type": "execute_result"
    }
   ],
   "source": [
    "math.sin(math.pi) # sin 180 "
   ]
  },
  {
   "cell_type": "code",
   "execution_count": 134,
   "id": "d262dabb",
   "metadata": {},
   "outputs": [
    {
     "data": {
      "text/plain": [
       "1.0"
      ]
     },
     "execution_count": 134,
     "metadata": {},
     "output_type": "execute_result"
    }
   ],
   "source": [
    "math.sin(math.pi / 2) # sin 90"
   ]
  },
  {
   "cell_type": "code",
   "execution_count": 136,
   "id": "066ab162",
   "metadata": {},
   "outputs": [
    {
     "data": {
      "text/plain": [
       "-0.4480736161291701"
      ]
     },
     "execution_count": 136,
     "metadata": {},
     "output_type": "execute_result"
    }
   ],
   "source": [
    "math.cos(90)"
   ]
  },
  {
   "cell_type": "code",
   "execution_count": 137,
   "id": "1c14d76d",
   "metadata": {},
   "outputs": [
    {
     "data": {
      "text/plain": [
       "1.0"
      ]
     },
     "execution_count": 137,
     "metadata": {},
     "output_type": "execute_result"
    }
   ],
   "source": [
    "math.cos(0)"
   ]
  },
  {
   "cell_type": "code",
   "execution_count": 138,
   "id": "e48c544a",
   "metadata": {},
   "outputs": [
    {
     "data": {
      "text/plain": [
       "1.633123935319537e+16"
      ]
     },
     "execution_count": 138,
     "metadata": {},
     "output_type": "execute_result"
    }
   ],
   "source": [
    "math.tan(math.pi / 2)"
   ]
  },
  {
   "cell_type": "code",
   "execution_count": 139,
   "id": "997b3c2e",
   "metadata": {},
   "outputs": [
    {
     "data": {
      "text/plain": [
       "2.995732273553991"
      ]
     },
     "execution_count": 139,
     "metadata": {},
     "output_type": "execute_result"
    }
   ],
   "source": [
    "math.log(20)"
   ]
  },
  {
   "cell_type": "markdown",
   "id": "7410b37b",
   "metadata": {},
   "source": [
    "# Statistics Module\n",
    "* Provides functions for math and statistics operations\n",
    "* import <b>statatics</b>"
   ]
  },
  {
   "cell_type": "code",
   "execution_count": 145,
   "id": "b4379b32",
   "metadata": {},
   "outputs": [],
   "source": [
    "import statistics"
   ]
  },
  {
   "cell_type": "code",
   "execution_count": 146,
   "id": "ff51cc8a",
   "metadata": {},
   "outputs": [
    {
     "data": {
      "text/plain": [
       "21"
      ]
     },
     "execution_count": 146,
     "metadata": {},
     "output_type": "execute_result"
    }
   ],
   "source": [
    "statistics.mean([10, 20, 11, 31, 33])"
   ]
  },
  {
   "cell_type": "code",
   "execution_count": 142,
   "id": "9487e7d0",
   "metadata": {},
   "outputs": [
    {
     "data": {
      "text/plain": [
       "20"
      ]
     },
     "execution_count": 142,
     "metadata": {},
     "output_type": "execute_result"
    }
   ],
   "source": [
    "statistics.median([10, 20, 11, 31, 33])"
   ]
  },
  {
   "cell_type": "code",
   "execution_count": 143,
   "id": "450a139c",
   "metadata": {},
   "outputs": [
    {
     "data": {
      "text/plain": [
       "23"
      ]
     },
     "execution_count": 143,
     "metadata": {},
     "output_type": "execute_result"
    }
   ],
   "source": [
    "statistics.mode([23, 2, 32, 23, 23, 1231, 23])"
   ]
  },
  {
   "cell_type": "code",
   "execution_count": 147,
   "id": "58712c0c",
   "metadata": {},
   "outputs": [
    {
     "data": {
      "text/plain": [
       "1.0801234497346435"
      ]
     },
     "execution_count": 147,
     "metadata": {},
     "output_type": "execute_result"
    }
   ],
   "source": [
    "statistics.stdev([2, 2.5, 3, 3.5, 4, 4.5, 5]) # stdev = standard deviation"
   ]
  },
  {
   "cell_type": "markdown",
   "id": "c051d842",
   "metadata": {},
   "source": [
    "# Errors\n",
    "* Python will raise a type of error when placing a wrong statement or something wrong in the code"
   ]
  },
  {
   "cell_type": "code",
   "execution_count": 148,
   "id": "7a4d4f2b",
   "metadata": {},
   "outputs": [
    {
     "ename": "SyntaxError",
     "evalue": "Missing parentheses in call to 'print'. Did you mean print(\"Py\")? (2306730185.py, line 1)",
     "output_type": "error",
     "traceback": [
      "\u001b[0;36m  Input \u001b[0;32mIn [148]\u001b[0;36m\u001b[0m\n\u001b[0;31m    print \"Py\"\u001b[0m\n\u001b[0m          ^\u001b[0m\n\u001b[0;31mSyntaxError\u001b[0m\u001b[0;31m:\u001b[0m Missing parentheses in call to 'print'. Did you mean print(\"Py\")?\n"
     ]
    }
   ],
   "source": [
    "# SyntaxError\n",
    "print \"Py\""
   ]
  },
  {
   "cell_type": "code",
   "execution_count": 149,
   "id": "453c32ac",
   "metadata": {},
   "outputs": [],
   "source": [
    "x = [0, 1, 2]"
   ]
  },
  {
   "cell_type": "code",
   "execution_count": 150,
   "id": "d859d300",
   "metadata": {},
   "outputs": [
    {
     "ename": "IndexError",
     "evalue": "list index out of range",
     "output_type": "error",
     "traceback": [
      "\u001b[0;31m---------------------------------------------------------------------------\u001b[0m",
      "\u001b[0;31mIndexError\u001b[0m                                Traceback (most recent call last)",
      "Input \u001b[0;32mIn [150]\u001b[0m, in \u001b[0;36m<module>\u001b[0;34m\u001b[0m\n\u001b[0;32m----> 1\u001b[0m \u001b[43mx\u001b[49m\u001b[43m[\u001b[49m\u001b[38;5;241;43m4\u001b[39;49m\u001b[43m]\u001b[49m\n",
      "\u001b[0;31mIndexError\u001b[0m: list index out of range"
     ]
    }
   ],
   "source": [
    "# IndexError\n",
    "x[4]"
   ]
  },
  {
   "cell_type": "code",
   "execution_count": 151,
   "id": "13cd59f0",
   "metadata": {},
   "outputs": [
    {
     "ename": "ModuleNotFoundError",
     "evalue": "No module named 'discovery'",
     "output_type": "error",
     "traceback": [
      "\u001b[0;31m---------------------------------------------------------------------------\u001b[0m",
      "\u001b[0;31mModuleNotFoundError\u001b[0m                       Traceback (most recent call last)",
      "Input \u001b[0;32mIn [151]\u001b[0m, in \u001b[0;36m<module>\u001b[0;34m\u001b[0m\n\u001b[1;32m      1\u001b[0m \u001b[38;5;66;03m# ModuleNotFoundError\u001b[39;00m\n\u001b[0;32m----> 2\u001b[0m \u001b[38;5;28;01mimport\u001b[39;00m \u001b[38;5;21;01mdiscovery\u001b[39;00m\n",
      "\u001b[0;31mModuleNotFoundError\u001b[0m: No module named 'discovery'"
     ]
    }
   ],
   "source": [
    "# ModuleNotFoundError\n",
    "import discovery"
   ]
  },
  {
   "cell_type": "code",
   "execution_count": 152,
   "id": "bd58c4ec",
   "metadata": {},
   "outputs": [
    {
     "ename": "TypeError",
     "evalue": "can only concatenate str (not \"int\") to str",
     "output_type": "error",
     "traceback": [
      "\u001b[0;31m---------------------------------------------------------------------------\u001b[0m",
      "\u001b[0;31mTypeError\u001b[0m                                 Traceback (most recent call last)",
      "Input \u001b[0;32mIn [152]\u001b[0m, in \u001b[0;36m<module>\u001b[0;34m\u001b[0m\n\u001b[1;32m      1\u001b[0m \u001b[38;5;66;03m# TypeError\u001b[39;00m\n\u001b[0;32m----> 2\u001b[0m \u001b[38;5;124;43m\"\u001b[39;49m\u001b[38;5;124;43m3\u001b[39;49m\u001b[38;5;124;43m\"\u001b[39;49m\u001b[43m \u001b[49m\u001b[38;5;241;43m+\u001b[39;49m\u001b[43m \u001b[49m\u001b[38;5;241;43m4\u001b[39;49m\n",
      "\u001b[0;31mTypeError\u001b[0m: can only concatenate str (not \"int\") to str"
     ]
    }
   ],
   "source": [
    "# TypeError\n",
    "\"3\" + 4"
   ]
  },
  {
   "cell_type": "code",
   "execution_count": 153,
   "id": "b1108310",
   "metadata": {},
   "outputs": [
    {
     "ename": "NameError",
     "evalue": "name 'hi' is not defined",
     "output_type": "error",
     "traceback": [
      "\u001b[0;31m---------------------------------------------------------------------------\u001b[0m",
      "\u001b[0;31mNameError\u001b[0m                                 Traceback (most recent call last)",
      "Input \u001b[0;32mIn [153]\u001b[0m, in \u001b[0;36m<module>\u001b[0;34m\u001b[0m\n\u001b[1;32m      1\u001b[0m \u001b[38;5;66;03m# NameError\u001b[39;00m\n\u001b[0;32m----> 2\u001b[0m \u001b[43mhi\u001b[49m\n",
      "\u001b[0;31mNameError\u001b[0m: name 'hi' is not defined"
     ]
    }
   ],
   "source": [
    "# NameError\n",
    "hi"
   ]
  },
  {
   "cell_type": "code",
   "execution_count": 155,
   "id": "b3e69669",
   "metadata": {},
   "outputs": [
    {
     "ename": "ZeroDivisionError",
     "evalue": "division by zero",
     "output_type": "error",
     "traceback": [
      "\u001b[0;31m---------------------------------------------------------------------------\u001b[0m",
      "\u001b[0;31mZeroDivisionError\u001b[0m                         Traceback (most recent call last)",
      "Input \u001b[0;32mIn [155]\u001b[0m, in \u001b[0;36m<module>\u001b[0;34m\u001b[0m\n\u001b[1;32m      1\u001b[0m \u001b[38;5;66;03m# ZeroDivisionError\u001b[39;00m\n\u001b[0;32m----> 2\u001b[0m \u001b[38;5;241;43m2\u001b[39;49m\u001b[43m \u001b[49m\u001b[38;5;241;43m/\u001b[39;49m\u001b[43m \u001b[49m\u001b[38;5;241;43m0\u001b[39;49m\n",
      "\u001b[0;31mZeroDivisionError\u001b[0m: division by zero"
     ]
    }
   ],
   "source": [
    "# ZeroDivisionError\n",
    "2 / 0"
   ]
  },
  {
   "cell_type": "markdown",
   "id": "2d403a1c",
   "metadata": {},
   "source": [
    "# Exception Handling\n",
    "* Using <b>Try</b> and <b>except</b>  for exceptions handling possible Errors\n",
    "* Syntax:\n",
    "  ```\n",
    "  Try:\n",
    "      # code\n",
    "  except:\n",
    "      # code\n",
    "  ```"
   ]
  },
  {
   "cell_type": "code",
   "execution_count": 165,
   "id": "73210849",
   "metadata": {},
   "outputs": [
    {
     "name": "stdout",
     "output_type": "stream",
     "text": [
      "Enter num 1: 3\n",
      "Enter num 2: 2\n",
      "1.5\n",
      "The operation completed successfully!\n"
     ]
    }
   ],
   "source": [
    "# Example catching a TypeError & ZeroDivisionError\n",
    "try:\n",
    "    num1 = int( input(\"Enter num 1: \") )\n",
    "    num2 = int( input(\"Enter num 2: \") )\n",
    "    print(num1 / num2)\n",
    "    \n",
    "except:\n",
    "    print(\"An error occurred\")\n",
    "    \n",
    "print(\"The operation completed successfully!\")"
   ]
  },
  {
   "cell_type": "code",
   "execution_count": 164,
   "id": "86b51d3f",
   "metadata": {},
   "outputs": [
    {
     "name": "stdout",
     "output_type": "stream",
     "text": [
      "Enter num 1: 4\n",
      "Enter num 2: 0\n",
      "\n",
      "Division operation unsuccessful.     \n",
      "Zero Division Error Occured!\n"
     ]
    }
   ],
   "source": [
    "# Example catching a TypeError & ZeroDivisionError\n",
    "try:\n",
    "    num1 = int( input(\"Enter num 1: \") )\n",
    "    num2 = int( input(\"Enter num 2: \") )\n",
    "    \n",
    "    print(\"\\n\" + str(num1 / num2))\n",
    "    print(\"The operation completed successfully!\")\n",
    "    \n",
    "except TypeError:\n",
    "    print(\"Invalid input detected1\")\n",
    "\n",
    "except ZeroDivisionError:\n",
    "    print(\"\\nDivision operation unsuccessful. \\\n",
    "    \\nZero Division Error Occured!\")\n",
    "    "
   ]
  },
  {
   "cell_type": "code",
   "execution_count": 168,
   "id": "a722a375",
   "metadata": {},
   "outputs": [],
   "source": [
    "n = 3\n",
    "n = n**+1"
   ]
  },
  {
   "cell_type": "code",
   "execution_count": 169,
   "id": "39ad76ea",
   "metadata": {},
   "outputs": [
    {
     "data": {
      "text/plain": [
       "3"
      ]
     },
     "execution_count": 169,
     "metadata": {},
     "output_type": "execute_result"
    }
   ],
   "source": [
    "n"
   ]
  },
  {
   "cell_type": "code",
   "execution_count": null,
   "id": "c777e2eb",
   "metadata": {},
   "outputs": [],
   "source": [
    "dir(modules)"
   ]
  },
  {
   "cell_type": "code",
   "execution_count": null,
   "id": "2df54666",
   "metadata": {},
   "outputs": [],
   "source": []
  }
 ],
 "metadata": {
  "kernelspec": {
   "display_name": "Python 3 (ipykernel)",
   "language": "python",
   "name": "python3"
  },
  "language_info": {
   "codemirror_mode": {
    "name": "ipython",
    "version": 3
   },
   "file_extension": ".py",
   "mimetype": "text/x-python",
   "name": "python",
   "nbconvert_exporter": "python",
   "pygments_lexer": "ipython3",
   "version": "3.8.10"
  }
 },
 "nbformat": 4,
 "nbformat_minor": 5
}
