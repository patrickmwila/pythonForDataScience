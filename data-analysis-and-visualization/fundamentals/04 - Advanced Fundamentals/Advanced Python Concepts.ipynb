{
 "cells": [
  {
   "cell_type": "markdown",
   "id": "cda30adc",
   "metadata": {},
   "source": [
    "# List Comprehensions\n",
    "* Short and easy way to create a list from anonther sequence\n",
    "* Syntax: [<b>expression for element in sequence if condition</b>]"
   ]
  },
  {
   "cell_type": "code",
   "execution_count": 37,
   "id": "fd68864b",
   "metadata": {},
   "outputs": [],
   "source": [
    "# example 1\n",
    "x = range(6)"
   ]
  },
  {
   "cell_type": "code",
   "execution_count": 38,
   "id": "819807b4",
   "metadata": {},
   "outputs": [],
   "source": [
    "evens = [n for n in x if n % 2 == 0]\n",
    "\n",
    "# the above is read as:\n",
    "# for n in range(0, 5):\n",
    "#     if n % 2 == 0:\n",
    "#         store n in a list called evens i.e:\n",
    "#         evens.append[n]"
   ]
  },
  {
   "cell_type": "code",
   "execution_count": 39,
   "id": "ceec72d8",
   "metadata": {},
   "outputs": [],
   "source": [
    "# example2  \n",
    "square_nums = [n * n for n in x]"
   ]
  },
  {
   "cell_type": "code",
   "execution_count": 40,
   "id": "f7674035",
   "metadata": {},
   "outputs": [
    {
     "data": {
      "text/plain": [
       "[0, 1, 4, 9, 16, 25]"
      ]
     },
     "execution_count": 40,
     "metadata": {},
     "output_type": "execute_result"
    }
   ],
   "source": [
    "square_nums"
   ]
  },
  {
   "cell_type": "code",
   "execution_count": 41,
   "id": "d3813df5",
   "metadata": {},
   "outputs": [],
   "source": [
    "# the same applies to sets\n",
    "set_of_squares = (n * n for n in x)"
   ]
  },
  {
   "cell_type": "code",
   "execution_count": 42,
   "id": "21e4b912",
   "metadata": {},
   "outputs": [
    {
     "data": {
      "text/plain": [
       "{0, 1, 4, 9, 16, 25}"
      ]
     },
     "execution_count": 42,
     "metadata": {},
     "output_type": "execute_result"
    }
   ],
   "source": [
    "set(set_of_squares)"
   ]
  },
  {
   "cell_type": "markdown",
   "id": "2585869c",
   "metadata": {},
   "source": [
    "# Built-in Modules\n",
    "* Several built-in modules\n",
    "* Modulw: Python file with .py extension\n",
    "* The module must be imported using any method that you know...\n",
    "* Use the <b>import</b> keyword"
   ]
  },
  {
   "cell_type": "code",
   "execution_count": 43,
   "id": "933c83f9",
   "metadata": {},
   "outputs": [],
   "source": [
    "# importing modules\n",
    "import random"
   ]
  },
  {
   "cell_type": "code",
   "execution_count": 44,
   "id": "c82a2530",
   "metadata": {},
   "outputs": [],
   "source": [
    "random_num = random.randint"
   ]
  },
  {
   "cell_type": "code",
   "execution_count": 45,
   "id": "7ef8c9bf",
   "metadata": {},
   "outputs": [
    {
     "name": "stdout",
     "output_type": "stream",
     "text": [
      "9\n"
     ]
    }
   ],
   "source": [
    "print(random_num(0, 10))"
   ]
  },
  {
   "cell_type": "code",
   "execution_count": 46,
   "id": "033b468e",
   "metadata": {},
   "outputs": [],
   "source": [
    "random_num = random.randint(1, 5)"
   ]
  },
  {
   "cell_type": "code",
   "execution_count": 47,
   "id": "06d70eb0",
   "metadata": {},
   "outputs": [
    {
     "data": {
      "text/plain": [
       "5"
      ]
     },
     "execution_count": 47,
     "metadata": {},
     "output_type": "execute_result"
    }
   ],
   "source": [
    "random_num"
   ]
  },
  {
   "cell_type": "code",
   "execution_count": 48,
   "id": "92b71ba4",
   "metadata": {},
   "outputs": [],
   "source": [
    "# importing specific items\n",
    "from  random import randint, choice"
   ]
  },
  {
   "cell_type": "code",
   "execution_count": 49,
   "id": "fa9a8f25",
   "metadata": {},
   "outputs": [
    {
     "name": "stdout",
     "output_type": "stream",
     "text": [
      "1\n"
     ]
    }
   ],
   "source": [
    "print(choice([1, 2, 3, 4, 5, 6]))"
   ]
  },
  {
   "cell_type": "code",
   "execution_count": 50,
   "id": "8d0181cb",
   "metadata": {},
   "outputs": [],
   "source": [
    "num = randint(1, 2) # generate random number between 1 and 2 both inclusive"
   ]
  },
  {
   "cell_type": "code",
   "execution_count": 51,
   "id": "bf179908",
   "metadata": {},
   "outputs": [
    {
     "data": {
      "text/plain": [
       "2"
      ]
     },
     "execution_count": 51,
     "metadata": {},
     "output_type": "execute_result"
    }
   ],
   "source": [
    "num"
   ]
  },
  {
   "cell_type": "code",
   "execution_count": 52,
   "id": "c2865604",
   "metadata": {},
   "outputs": [
    {
     "data": {
      "text/plain": [
       "2"
      ]
     },
     "execution_count": 52,
     "metadata": {},
     "output_type": "execute_result"
    }
   ],
   "source": [
    "num"
   ]
  },
  {
   "cell_type": "code",
   "execution_count": 53,
   "id": "d4411ae9",
   "metadata": {},
   "outputs": [
    {
     "data": {
      "text/plain": [
       "2"
      ]
     },
     "execution_count": 53,
     "metadata": {},
     "output_type": "execute_result"
    }
   ],
   "source": [
    "num"
   ]
  },
  {
   "cell_type": "markdown",
   "id": "69b63bf3",
   "metadata": {},
   "source": [
    "# Math Module\n",
    "* Import math module to use mathemtical functions\n",
    "* e.g from math import <b>sin</b>, <b>cos</b>, <b>tan</b>, <b>log</b>"
   ]
  },
  {
   "cell_type": "code",
   "execution_count": 54,
   "id": "9b43e01b",
   "metadata": {},
   "outputs": [],
   "source": [
    "import math"
   ]
  },
  {
   "cell_type": "code",
   "execution_count": 55,
   "id": "81a76324",
   "metadata": {},
   "outputs": [
    {
     "data": {
      "text/plain": [
       "2.23606797749979"
      ]
     },
     "execution_count": 55,
     "metadata": {},
     "output_type": "execute_result"
    }
   ],
   "source": [
    "# sqrt() function\n",
    "math.sqrt(5)"
   ]
  },
  {
   "cell_type": "code",
   "execution_count": 56,
   "id": "080c9848",
   "metadata": {},
   "outputs": [
    {
     "data": {
      "text/plain": [
       "2.718281828459045"
      ]
     },
     "execution_count": 56,
     "metadata": {},
     "output_type": "execute_result"
    }
   ],
   "source": [
    "math.e"
   ]
  },
  {
   "cell_type": "code",
   "execution_count": 57,
   "id": "61703f55",
   "metadata": {},
   "outputs": [
    {
     "data": {
      "text/plain": [
       "3.141592653589793"
      ]
     },
     "execution_count": 57,
     "metadata": {},
     "output_type": "execute_result"
    }
   ],
   "source": [
    "math.pi"
   ]
  },
  {
   "cell_type": "code",
   "execution_count": 58,
   "id": "d83c2b64",
   "metadata": {},
   "outputs": [
    {
     "data": {
      "text/plain": [
       "1.5707963267948966"
      ]
     },
     "execution_count": 58,
     "metadata": {},
     "output_type": "execute_result"
    }
   ],
   "source": [
    "# degrees to radians\n",
    "math.radians(90)"
   ]
  },
  {
   "cell_type": "code",
   "execution_count": 59,
   "id": "894ed2e1",
   "metadata": {},
   "outputs": [
    {
     "data": {
      "text/plain": [
       "90.0"
      ]
     },
     "execution_count": 59,
     "metadata": {},
     "output_type": "execute_result"
    }
   ],
   "source": [
    "# radians to degrees\n",
    "math.degrees(math.pi / 2)"
   ]
  },
  {
   "cell_type": "code",
   "execution_count": 60,
   "id": "d3990daf",
   "metadata": {},
   "outputs": [],
   "source": [
    "from math import sin, cos, tan, log"
   ]
  },
  {
   "cell_type": "code",
   "execution_count": 61,
   "id": "e5ca612c",
   "metadata": {},
   "outputs": [
    {
     "data": {
      "text/plain": [
       "1.2246467991473532e-16"
      ]
     },
     "execution_count": 61,
     "metadata": {},
     "output_type": "execute_result"
    }
   ],
   "source": [
    "math.sin(math.pi) # sin 180 "
   ]
  },
  {
   "cell_type": "code",
   "execution_count": 62,
   "id": "b933470f",
   "metadata": {},
   "outputs": [
    {
     "data": {
      "text/plain": [
       "1.0"
      ]
     },
     "execution_count": 62,
     "metadata": {},
     "output_type": "execute_result"
    }
   ],
   "source": [
    "math.sin(math.pi / 2) # sin 90"
   ]
  },
  {
   "cell_type": "code",
   "execution_count": 63,
   "id": "b2f560f9",
   "metadata": {},
   "outputs": [
    {
     "data": {
      "text/plain": [
       "-0.4480736161291701"
      ]
     },
     "execution_count": 63,
     "metadata": {},
     "output_type": "execute_result"
    }
   ],
   "source": [
    "math.cos(90)"
   ]
  },
  {
   "cell_type": "code",
   "execution_count": 64,
   "id": "60622eae",
   "metadata": {},
   "outputs": [
    {
     "data": {
      "text/plain": [
       "1.0"
      ]
     },
     "execution_count": 64,
     "metadata": {},
     "output_type": "execute_result"
    }
   ],
   "source": [
    "math.cos(0)"
   ]
  },
  {
   "cell_type": "code",
   "execution_count": 65,
   "id": "69226527",
   "metadata": {},
   "outputs": [
    {
     "data": {
      "text/plain": [
       "1.633123935319537e+16"
      ]
     },
     "execution_count": 65,
     "metadata": {},
     "output_type": "execute_result"
    }
   ],
   "source": [
    "math.tan(math.pi / 2)"
   ]
  },
  {
   "cell_type": "code",
   "execution_count": 66,
   "id": "63e96427",
   "metadata": {},
   "outputs": [
    {
     "data": {
      "text/plain": [
       "2.995732273553991"
      ]
     },
     "execution_count": 66,
     "metadata": {},
     "output_type": "execute_result"
    }
   ],
   "source": [
    "math.log(20)"
   ]
  },
  {
   "cell_type": "markdown",
   "id": "c3f8ce1c",
   "metadata": {},
   "source": [
    "# Statistics Module\n",
    "* Provides functions for math and statistics operations\n",
    "* import <b>statatics</b>"
   ]
  },
  {
   "cell_type": "code",
   "execution_count": 67,
   "id": "b631a5e4",
   "metadata": {},
   "outputs": [],
   "source": [
    "import statistics"
   ]
  },
  {
   "cell_type": "code",
   "execution_count": 68,
   "id": "efe5c9ca",
   "metadata": {},
   "outputs": [
    {
     "data": {
      "text/plain": [
       "21"
      ]
     },
     "execution_count": 68,
     "metadata": {},
     "output_type": "execute_result"
    }
   ],
   "source": [
    "statistics.mean([10, 20, 11, 31, 33])"
   ]
  },
  {
   "cell_type": "code",
   "execution_count": 69,
   "id": "70b4dd40",
   "metadata": {},
   "outputs": [
    {
     "data": {
      "text/plain": [
       "20"
      ]
     },
     "execution_count": 69,
     "metadata": {},
     "output_type": "execute_result"
    }
   ],
   "source": [
    "statistics.median([10, 20, 11, 31, 33])"
   ]
  },
  {
   "cell_type": "code",
   "execution_count": 70,
   "id": "171cbc32",
   "metadata": {},
   "outputs": [
    {
     "data": {
      "text/plain": [
       "23"
      ]
     },
     "execution_count": 70,
     "metadata": {},
     "output_type": "execute_result"
    }
   ],
   "source": [
    "statistics.mode([23, 2, 32, 23, 23, 1231, 23])"
   ]
  },
  {
   "cell_type": "code",
   "execution_count": 71,
   "id": "d7c60a9d",
   "metadata": {},
   "outputs": [
    {
     "data": {
      "text/plain": [
       "1.0801234497346435"
      ]
     },
     "execution_count": 71,
     "metadata": {},
     "output_type": "execute_result"
    }
   ],
   "source": [
    "statistics.stdev([2, 2.5, 3, 3.5, 4, 4.5, 5]) # stdev = standard deviation"
   ]
  },
  {
   "cell_type": "markdown",
   "id": "7c6a7c74",
   "metadata": {},
   "source": [
    "# Errors\n",
    "* Python will raise a type of error when placing a wrong statement or something wrong in the code"
   ]
  },
  {
   "cell_type": "code",
   "execution_count": 72,
   "id": "380d0bc9",
   "metadata": {},
   "outputs": [
    {
     "ename": "SyntaxError",
     "evalue": "Missing parentheses in call to 'print'. Did you mean print(\"Py\")? (3069726345.py, line 2)",
     "output_type": "error",
     "traceback": [
      "\u001b[0;36m  Input \u001b[0;32mIn [72]\u001b[0;36m\u001b[0m\n\u001b[0;31m    print \"Py\"\u001b[0m\n\u001b[0m          ^\u001b[0m\n\u001b[0;31mSyntaxError\u001b[0m\u001b[0;31m:\u001b[0m Missing parentheses in call to 'print'. Did you mean print(\"Py\")?\n"
     ]
    }
   ],
   "source": [
    "# SyntaxError\n",
    "print \"Py\""
   ]
  },
  {
   "cell_type": "code",
   "execution_count": 73,
   "id": "7e537f03",
   "metadata": {},
   "outputs": [],
   "source": [
    "x = [0, 1, 2]"
   ]
  },
  {
   "cell_type": "code",
   "execution_count": 74,
   "id": "46bf226d",
   "metadata": {},
   "outputs": [
    {
     "ename": "IndexError",
     "evalue": "list index out of range",
     "output_type": "error",
     "traceback": [
      "\u001b[0;31m---------------------------------------------------------------------------\u001b[0m",
      "\u001b[0;31mIndexError\u001b[0m                                Traceback (most recent call last)",
      "Input \u001b[0;32mIn [74]\u001b[0m, in \u001b[0;36m<module>\u001b[0;34m\u001b[0m\n\u001b[1;32m      1\u001b[0m \u001b[38;5;66;03m# IndexError\u001b[39;00m\n\u001b[0;32m----> 2\u001b[0m \u001b[43mx\u001b[49m\u001b[43m[\u001b[49m\u001b[38;5;241;43m4\u001b[39;49m\u001b[43m]\u001b[49m\n",
      "\u001b[0;31mIndexError\u001b[0m: list index out of range"
     ]
    }
   ],
   "source": [
    "# IndexError\n",
    "x[4]"
   ]
  },
  {
   "cell_type": "code",
   "execution_count": 75,
   "id": "931a0a3d",
   "metadata": {},
   "outputs": [
    {
     "ename": "ModuleNotFoundError",
     "evalue": "No module named 'discovery'",
     "output_type": "error",
     "traceback": [
      "\u001b[0;31m---------------------------------------------------------------------------\u001b[0m",
      "\u001b[0;31mModuleNotFoundError\u001b[0m                       Traceback (most recent call last)",
      "Input \u001b[0;32mIn [75]\u001b[0m, in \u001b[0;36m<module>\u001b[0;34m\u001b[0m\n\u001b[1;32m      1\u001b[0m \u001b[38;5;66;03m# ModuleNotFoundError\u001b[39;00m\n\u001b[0;32m----> 2\u001b[0m \u001b[38;5;28;01mimport\u001b[39;00m \u001b[38;5;21;01mdiscovery\u001b[39;00m\n",
      "\u001b[0;31mModuleNotFoundError\u001b[0m: No module named 'discovery'"
     ]
    }
   ],
   "source": [
    "# ModuleNotFoundError\n",
    "import discovery"
   ]
  },
  {
   "cell_type": "code",
   "execution_count": 76,
   "id": "1541dbe1",
   "metadata": {},
   "outputs": [
    {
     "ename": "TypeError",
     "evalue": "can only concatenate str (not \"int\") to str",
     "output_type": "error",
     "traceback": [
      "\u001b[0;31m---------------------------------------------------------------------------\u001b[0m",
      "\u001b[0;31mTypeError\u001b[0m                                 Traceback (most recent call last)",
      "Input \u001b[0;32mIn [76]\u001b[0m, in \u001b[0;36m<module>\u001b[0;34m\u001b[0m\n\u001b[1;32m      1\u001b[0m \u001b[38;5;66;03m# TypeError\u001b[39;00m\n\u001b[0;32m----> 2\u001b[0m \u001b[38;5;124;43m\"\u001b[39;49m\u001b[38;5;124;43m3\u001b[39;49m\u001b[38;5;124;43m\"\u001b[39;49m\u001b[43m \u001b[49m\u001b[38;5;241;43m+\u001b[39;49m\u001b[43m \u001b[49m\u001b[38;5;241;43m4\u001b[39;49m\n",
      "\u001b[0;31mTypeError\u001b[0m: can only concatenate str (not \"int\") to str"
     ]
    }
   ],
   "source": [
    "# TypeError\n",
    "\"3\" + 4"
   ]
  },
  {
   "cell_type": "code",
   "execution_count": 77,
   "id": "b2019f4f",
   "metadata": {},
   "outputs": [
    {
     "ename": "NameError",
     "evalue": "name 'hi' is not defined",
     "output_type": "error",
     "traceback": [
      "\u001b[0;31m---------------------------------------------------------------------------\u001b[0m",
      "\u001b[0;31mNameError\u001b[0m                                 Traceback (most recent call last)",
      "Input \u001b[0;32mIn [77]\u001b[0m, in \u001b[0;36m<module>\u001b[0;34m\u001b[0m\n\u001b[1;32m      1\u001b[0m \u001b[38;5;66;03m# NameError\u001b[39;00m\n\u001b[0;32m----> 2\u001b[0m \u001b[43mhi\u001b[49m\n",
      "\u001b[0;31mNameError\u001b[0m: name 'hi' is not defined"
     ]
    }
   ],
   "source": [
    "# NameError\n",
    "hi"
   ]
  },
  {
   "cell_type": "code",
   "execution_count": 78,
   "id": "acfc68b0",
   "metadata": {},
   "outputs": [
    {
     "ename": "ZeroDivisionError",
     "evalue": "division by zero",
     "output_type": "error",
     "traceback": [
      "\u001b[0;31m---------------------------------------------------------------------------\u001b[0m",
      "\u001b[0;31mZeroDivisionError\u001b[0m                         Traceback (most recent call last)",
      "Input \u001b[0;32mIn [78]\u001b[0m, in \u001b[0;36m<module>\u001b[0;34m\u001b[0m\n\u001b[1;32m      1\u001b[0m \u001b[38;5;66;03m# ZeroDivisionError\u001b[39;00m\n\u001b[0;32m----> 2\u001b[0m \u001b[38;5;241;43m2\u001b[39;49m\u001b[43m \u001b[49m\u001b[38;5;241;43m/\u001b[39;49m\u001b[43m \u001b[49m\u001b[38;5;241;43m0\u001b[39;49m\n",
      "\u001b[0;31mZeroDivisionError\u001b[0m: division by zero"
     ]
    }
   ],
   "source": [
    "# ZeroDivisionError\n",
    "2 / 0"
   ]
  },
  {
   "cell_type": "markdown",
   "id": "6ae14ae8",
   "metadata": {},
   "source": [
    "# Exception Handling\n",
    "* Using <b>Try</b> and <b>except</b>  for exceptions handling possible Errors\n",
    "* Syntax:\n",
    "  ```\n",
    "  Try:\n",
    "      # code\n",
    "  except:\n",
    "      # code\n",
    "  ```"
   ]
  },
  {
   "cell_type": "code",
   "execution_count": 80,
   "id": "3203ac2c",
   "metadata": {},
   "outputs": [
    {
     "name": "stdout",
     "output_type": "stream",
     "text": [
      "Enter num 1: 2\n",
      "Enter num 2: 2\n",
      "1.0\n",
      "The operation completed successfully!\n"
     ]
    }
   ],
   "source": [
    "# Example catching a TypeError & ZeroDivisionError\n",
    "try:\n",
    "    num1 = int( input(\"Enter num 1: \") )\n",
    "    num2 = int( input(\"Enter num 2: \") )\n",
    "    print(num1 / num2)\n",
    "    \n",
    "except:\n",
    "    print(\"An error occurred\")\n",
    "    \n",
    "print(\"The operation completed successfully!\")"
   ]
  },
  {
   "cell_type": "code",
   "execution_count": 81,
   "id": "bf19b5fa",
   "metadata": {},
   "outputs": [
    {
     "name": "stdout",
     "output_type": "stream",
     "text": [
      "Enter num 1: 9\n",
      "Enter num 2: 0\n",
      "\n",
      "Division operation unsuccessful.     \n",
      "Zero Division Error Occured!\n"
     ]
    }
   ],
   "source": [
    "# Example catching a TypeError & ZeroDivisionError\n",
    "try:\n",
    "    num1 = int( input(\"Enter num 1: \") )\n",
    "    num2 = int( input(\"Enter num 2: \") )\n",
    "    \n",
    "    print(\"\\n\" + str(num1 / num2))\n",
    "    print(\"The operation completed successfully!\")\n",
    "    \n",
    "except TypeError:\n",
    "    print(\"Invalid input detected1\")\n",
    "\n",
    "except ZeroDivisionError:\n",
    "    print(\"\\nDivision operation unsuccessful. \\\n",
    "    \\nZero Division Error Occured!\")\n",
    "    "
   ]
  }
 ],
 "metadata": {
  "kernelspec": {
   "display_name": "Python 3 (ipykernel)",
   "language": "python",
   "name": "python3"
  },
  "language_info": {
   "codemirror_mode": {
    "name": "ipython",
    "version": 3
   },
   "file_extension": ".py",
   "mimetype": "text/x-python",
   "name": "python",
   "nbconvert_exporter": "python",
   "pygments_lexer": "ipython3",
   "version": "3.8.10"
  }
 },
 "nbformat": 4,
 "nbformat_minor": 5
}
