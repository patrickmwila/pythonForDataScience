{
 "cells": [
  {
   "cell_type": "code",
   "execution_count": 1,
   "id": "404c15d1",
   "metadata": {},
   "outputs": [],
   "source": [
    "message = \"This is a comprehensive course!\""
   ]
  },
  {
   "cell_type": "code",
   "execution_count": 2,
   "id": "1a9fa527",
   "metadata": {},
   "outputs": [
    {
     "name": "stdout",
     "output_type": "stream",
     "text": [
      "This is a comprehensive course!\n"
     ]
    }
   ],
   "source": [
    "print(message)"
   ]
  },
  {
   "cell_type": "code",
   "execution_count": 3,
   "id": "ff0c7e06",
   "metadata": {},
   "outputs": [],
   "source": [
    "x = 10\n",
    "y = 20.3\n",
    "z = 20 + 5j"
   ]
  },
  {
   "cell_type": "code",
   "execution_count": 4,
   "id": "c8bf18ed",
   "metadata": {},
   "outputs": [
    {
     "data": {
      "text/plain": [
       "10"
      ]
     },
     "execution_count": 4,
     "metadata": {},
     "output_type": "execute_result"
    }
   ],
   "source": [
    "x"
   ]
  },
  {
   "cell_type": "code",
   "execution_count": 5,
   "id": "fc451723",
   "metadata": {},
   "outputs": [
    {
     "data": {
      "text/plain": [
       "20.3"
      ]
     },
     "execution_count": 5,
     "metadata": {},
     "output_type": "execute_result"
    }
   ],
   "source": [
    "y"
   ]
  },
  {
   "cell_type": "code",
   "execution_count": 6,
   "id": "f37a01df",
   "metadata": {},
   "outputs": [
    {
     "data": {
      "text/plain": [
       "(20+5j)"
      ]
     },
     "execution_count": 6,
     "metadata": {},
     "output_type": "execute_result"
    }
   ],
   "source": [
    "z"
   ]
  },
  {
   "cell_type": "code",
   "execution_count": 7,
   "id": "7204f2be",
   "metadata": {},
   "outputs": [],
   "source": [
    "test = True"
   ]
  },
  {
   "cell_type": "code",
   "execution_count": 8,
   "id": "5d771860",
   "metadata": {},
   "outputs": [
    {
     "data": {
      "text/plain": [
       "bool"
      ]
     },
     "execution_count": 8,
     "metadata": {},
     "output_type": "execute_result"
    }
   ],
   "source": [
    "type(test)"
   ]
  },
  {
   "cell_type": "code",
   "execution_count": 9,
   "id": "7c5cd26b",
   "metadata": {},
   "outputs": [
    {
     "data": {
      "text/plain": [
       "int"
      ]
     },
     "execution_count": 9,
     "metadata": {},
     "output_type": "execute_result"
    }
   ],
   "source": [
    "type(1)"
   ]
  },
  {
   "cell_type": "code",
   "execution_count": 10,
   "id": "92fd8f37",
   "metadata": {},
   "outputs": [
    {
     "data": {
      "text/plain": [
       "float"
      ]
     },
     "execution_count": 10,
     "metadata": {},
     "output_type": "execute_result"
    }
   ],
   "source": [
    "type(2.5)"
   ]
  },
  {
   "cell_type": "code",
   "execution_count": 11,
   "id": "e1d0eb26",
   "metadata": {},
   "outputs": [
    {
     "data": {
      "text/plain": [
       "complex"
      ]
     },
     "execution_count": 11,
     "metadata": {},
     "output_type": "execute_result"
    }
   ],
   "source": [
    "type(3j)"
   ]
  },
  {
   "cell_type": "code",
   "execution_count": 12,
   "id": "43216649",
   "metadata": {},
   "outputs": [
    {
     "data": {
      "text/plain": [
       "list"
      ]
     },
     "execution_count": 12,
     "metadata": {},
     "output_type": "execute_result"
    }
   ],
   "source": [
    "type([1, 2, 3])"
   ]
  },
  {
   "cell_type": "code",
   "execution_count": 13,
   "id": "a553e85a",
   "metadata": {},
   "outputs": [
    {
     "data": {
      "text/plain": [
       "str"
      ]
     },
     "execution_count": 13,
     "metadata": {},
     "output_type": "execute_result"
    }
   ],
   "source": [
    "type(message)"
   ]
  },
  {
   "cell_type": "code",
   "execution_count": 14,
   "id": "3d5df714",
   "metadata": {},
   "outputs": [
    {
     "data": {
      "text/plain": [
       "str"
      ]
     },
     "execution_count": 14,
     "metadata": {},
     "output_type": "execute_result"
    }
   ],
   "source": [
    "type(\"Hello, World\")"
   ]
  },
  {
   "cell_type": "code",
   "execution_count": 24,
   "id": "4ccba64b",
   "metadata": {},
   "outputs": [
    {
     "name": "stdout",
     "output_type": "stream",
     "text": [
      "Hi, Jupyter!\n"
     ]
    }
   ],
   "source": [
    "# Block single line comment\n",
    "\n",
    "text = \"Hi, Jupyter!\"\n",
    "print(text)"
   ]
  },
  {
   "cell_type": "code",
   "execution_count": 21,
   "id": "82bd2318",
   "metadata": {},
   "outputs": [
    {
     "name": "stdout",
     "output_type": "stream",
     "text": [
      "#This is not a comment\n"
     ]
    }
   ],
   "source": [
    "print(\"#This is not a comment\")   # But this is a comment"
   ]
  },
  {
   "cell_type": "code",
   "execution_count": 22,
   "id": "62c52c25",
   "metadata": {},
   "outputs": [],
   "source": [
    "# First line of comment\n",
    "# Second Line of comment\n",
    "# Third line of comment"
   ]
  },
  {
   "cell_type": "code",
   "execution_count": 29,
   "id": "c60b95ad",
   "metadata": {},
   "outputs": [
    {
     "name": "stdout",
     "output_type": "stream",
     "text": [
      "Hello, World!\n"
     ]
    }
   ],
   "source": [
    "if True:\n",
    "    print(\"Hello, World!\")"
   ]
  },
  {
   "cell_type": "markdown",
   "id": "a85989b7",
   "metadata": {},
   "source": [
    "# String Data Type"
   ]
  },
  {
   "cell_type": "code",
   "execution_count": 30,
   "id": "fedfa024",
   "metadata": {},
   "outputs": [
    {
     "data": {
      "text/plain": [
       "str"
      ]
     },
     "execution_count": 30,
     "metadata": {},
     "output_type": "execute_result"
    }
   ],
   "source": [
    "type(\"Welcome to Jupyter\")"
   ]
  },
  {
   "cell_type": "code",
   "execution_count": 31,
   "id": "b69d23ee",
   "metadata": {},
   "outputs": [],
   "source": [
    "name = \"Python Data Analysis and Visualization\""
   ]
  },
  {
   "cell_type": "code",
   "execution_count": 32,
   "id": "acae451e",
   "metadata": {},
   "outputs": [
    {
     "data": {
      "text/plain": [
       "str"
      ]
     },
     "execution_count": 32,
     "metadata": {},
     "output_type": "execute_result"
    }
   ],
   "source": [
    "type(name)"
   ]
  },
  {
   "cell_type": "code",
   "execution_count": 33,
   "id": "9ecad2f5",
   "metadata": {},
   "outputs": [],
   "source": [
    "mix = \"Hi number 123\""
   ]
  },
  {
   "cell_type": "code",
   "execution_count": 34,
   "id": "6b77d897",
   "metadata": {},
   "outputs": [
    {
     "data": {
      "text/plain": [
       "str"
      ]
     },
     "execution_count": 34,
     "metadata": {},
     "output_type": "execute_result"
    }
   ],
   "source": [
    "type(mix)"
   ]
  },
  {
   "cell_type": "code",
   "execution_count": 35,
   "id": "0dbfd8dd",
   "metadata": {},
   "outputs": [],
   "source": [
    "new_str = \"We said that 'Python is powerful'\""
   ]
  },
  {
   "cell_type": "code",
   "execution_count": 36,
   "id": "2fc72e78",
   "metadata": {},
   "outputs": [
    {
     "data": {
      "text/plain": [
       "\"We said that 'Python is powerful'\""
      ]
     },
     "execution_count": 36,
     "metadata": {},
     "output_type": "execute_result"
    }
   ],
   "source": [
    "new_str"
   ]
  },
  {
   "cell_type": "code",
   "execution_count": 38,
   "id": "5798100d",
   "metadata": {},
   "outputs": [],
   "source": [
    "new_str1 = \"We said that \\\"Python is powerful\\\"\""
   ]
  },
  {
   "cell_type": "code",
   "execution_count": null,
   "id": "63f39999",
   "metadata": {},
   "outputs": [],
   "source": []
  }
 ],
 "metadata": {
  "kernelspec": {
   "display_name": "Python 3",
   "language": "python",
   "name": "python3"
  },
  "language_info": {
   "codemirror_mode": {
    "name": "ipython",
    "version": 3
   },
   "file_extension": ".py",
   "mimetype": "text/x-python",
   "name": "python",
   "nbconvert_exporter": "python",
   "pygments_lexer": "ipython3",
   "version": "3.8.8"
  }
 },
 "nbformat": 4,
 "nbformat_minor": 5
}
