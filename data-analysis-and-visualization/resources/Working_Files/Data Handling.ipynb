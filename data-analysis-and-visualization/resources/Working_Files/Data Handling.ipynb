{
 "cells": [
  {
   "cell_type": "markdown",
   "id": "3414436e",
   "metadata": {},
   "source": [
    "# Using io module"
   ]
  },
  {
   "cell_type": "code",
   "execution_count": 1,
   "id": "f89e27fc",
   "metadata": {},
   "outputs": [],
   "source": [
    "import io"
   ]
  },
  {
   "cell_type": "code",
   "execution_count": 2,
   "id": "742e1100",
   "metadata": {},
   "outputs": [],
   "source": [
    "new_text = \"Learning python and data analysis\""
   ]
  },
  {
   "cell_type": "code",
   "execution_count": 9,
   "id": "444e1c8f",
   "metadata": {},
   "outputs": [],
   "source": [
    "file = io.StringIO(new_text)"
   ]
  },
  {
   "cell_type": "code",
   "execution_count": 10,
   "id": "a9bb531e",
   "metadata": {},
   "outputs": [
    {
     "data": {
      "text/plain": [
       "'Learning python and data analysis'"
      ]
     },
     "execution_count": 10,
     "metadata": {},
     "output_type": "execute_result"
    }
   ],
   "source": [
    "file.read()"
   ]
  },
  {
   "cell_type": "code",
   "execution_count": 13,
   "id": "07fcd1b6",
   "metadata": {},
   "outputs": [
    {
     "data": {
      "text/plain": [
       "34"
      ]
     },
     "execution_count": 13,
     "metadata": {},
     "output_type": "execute_result"
    }
   ],
   "source": [
    "file.write(\" Master the Data handling concepts\")"
   ]
  },
  {
   "cell_type": "code",
   "execution_count": 14,
   "id": "12824e3f",
   "metadata": {},
   "outputs": [
    {
     "data": {
      "text/plain": [
       "0"
      ]
     },
     "execution_count": 14,
     "metadata": {},
     "output_type": "execute_result"
    }
   ],
   "source": [
    "file.seek(0)"
   ]
  },
  {
   "cell_type": "code",
   "execution_count": 15,
   "id": "20e78904",
   "metadata": {},
   "outputs": [
    {
     "data": {
      "text/plain": [
       "'Learning python and data analysis Master the Data handling concepts Master the Data handling concepts'"
      ]
     },
     "execution_count": 15,
     "metadata": {},
     "output_type": "execute_result"
    }
   ],
   "source": [
    "file.read()"
   ]
  },
  {
   "cell_type": "markdown",
   "id": "980c9063",
   "metadata": {},
   "source": [
    "# The os module"
   ]
  },
  {
   "cell_type": "code",
   "execution_count": 16,
   "id": "af57aeac",
   "metadata": {},
   "outputs": [],
   "source": [
    "import os"
   ]
  },
  {
   "cell_type": "code",
   "execution_count": 19,
   "id": "72357746",
   "metadata": {},
   "outputs": [
    {
     "data": {
      "text/plain": [
       "'C:\\\\Users\\\\user\\\\Desktop\\\\Working_Files'"
      ]
     },
     "execution_count": 19,
     "metadata": {},
     "output_type": "execute_result"
    }
   ],
   "source": [
    "os.getcwd()"
   ]
  },
  {
   "cell_type": "code",
   "execution_count": 20,
   "id": "d8e06b40",
   "metadata": {},
   "outputs": [
    {
     "data": {
      "text/plain": [
       "['.ipynb_checkpoints',\n",
       " 'Advanced Python Foundations.ipynb',\n",
       " 'Data Handling.ipynb',\n",
       " 'First python code using Jupyter.ipynb',\n",
       " 'Introduction to Jupyter.ipynb',\n",
       " 'new.ipynb',\n",
       " 'Numerical Python(NumPy).ipynb',\n",
       " 'Object-Oriented Programming.ipynb',\n",
       " 'Pandas Data Analysis.ipynb',\n",
       " 'Python Basics.ipynb',\n",
       " 'Python Data Structures.ipynb',\n",
       " 'Python Fundamentals.ipynb',\n",
       " 'sample10.csv']"
      ]
     },
     "execution_count": 20,
     "metadata": {},
     "output_type": "execute_result"
    }
   ],
   "source": [
    "os.listdir()"
   ]
  },
  {
   "cell_type": "markdown",
   "id": "3987bb78",
   "metadata": {},
   "source": [
    "# The shutil module"
   ]
  },
  {
   "cell_type": "code",
   "execution_count": 21,
   "id": "94198d4f",
   "metadata": {},
   "outputs": [],
   "source": [
    "import shutil"
   ]
  },
  {
   "cell_type": "code",
   "execution_count": 26,
   "id": "6d626aaf",
   "metadata": {},
   "outputs": [
    {
     "data": {
      "text/plain": [
       "'.\\\\Demo\\\\main.txt'"
      ]
     },
     "execution_count": 26,
     "metadata": {},
     "output_type": "execute_result"
    }
   ],
   "source": [
    "shutil.move('main.txt', '.\\Demo')"
   ]
  },
  {
   "cell_type": "code",
   "execution_count": 27,
   "id": "5d1baa01",
   "metadata": {},
   "outputs": [
    {
     "data": {
      "text/plain": [
       "['.ipynb_checkpoints', 'main.txt']"
      ]
     },
     "execution_count": 27,
     "metadata": {},
     "output_type": "execute_result"
    }
   ],
   "source": [
    "os.listdir('.\\Demo')"
   ]
  },
  {
   "cell_type": "code",
   "execution_count": 28,
   "id": "bc5f8e81",
   "metadata": {},
   "outputs": [
    {
     "data": {
      "text/plain": [
       "'C:\\\\Users\\\\user\\\\Desktop\\\\Working_Files\\\\main.txt'"
      ]
     },
     "execution_count": 28,
     "metadata": {},
     "output_type": "execute_result"
    }
   ],
   "source": [
    "shutil.move('.\\Demo\\main.txt', os.getcwd())"
   ]
  },
  {
   "cell_type": "code",
   "execution_count": 29,
   "id": "94f4f870",
   "metadata": {},
   "outputs": [
    {
     "data": {
      "text/plain": [
       "['.ipynb_checkpoints',\n",
       " 'Advanced Python Foundations.ipynb',\n",
       " 'Data Handling.ipynb',\n",
       " 'Demo',\n",
       " 'First python code using Jupyter.ipynb',\n",
       " 'Introduction to Jupyter.ipynb',\n",
       " 'main.txt',\n",
       " 'new.ipynb',\n",
       " 'Numerical Python(NumPy).ipynb',\n",
       " 'Object-Oriented Programming.ipynb',\n",
       " 'Pandas Data Analysis.ipynb',\n",
       " 'Python Basics.ipynb',\n",
       " 'Python Data Structures.ipynb',\n",
       " 'Python Fundamentals.ipynb',\n",
       " 'sample10.csv']"
      ]
     },
     "execution_count": 29,
     "metadata": {},
     "output_type": "execute_result"
    }
   ],
   "source": [
    "os.listdir()"
   ]
  },
  {
   "cell_type": "markdown",
   "id": "a3ea2d88",
   "metadata": {},
   "source": [
    "# The send2trash module"
   ]
  },
  {
   "cell_type": "code",
   "execution_count": 30,
   "id": "30f66e51",
   "metadata": {},
   "outputs": [
    {
     "name": "stdout",
     "output_type": "stream",
     "text": [
      "Requirement already satisfied: send2trash in c:\\users\\user\\anaconda3\\lib\\site-packages (1.5.0)\n"
     ]
    }
   ],
   "source": [
    "!pip install send2trash"
   ]
  },
  {
   "cell_type": "code",
   "execution_count": 31,
   "id": "ad9cd0e8",
   "metadata": {},
   "outputs": [],
   "source": [
    "import send2trash"
   ]
  },
  {
   "cell_type": "code",
   "execution_count": 32,
   "id": "58d45d52",
   "metadata": {},
   "outputs": [
    {
     "data": {
      "text/plain": [
       "['.ipynb_checkpoints',\n",
       " 'Advanced Python Foundations.ipynb',\n",
       " 'Data Handling.ipynb',\n",
       " 'Demo',\n",
       " 'First python code using Jupyter.ipynb',\n",
       " 'Introduction to Jupyter.ipynb',\n",
       " 'main.txt',\n",
       " 'new.ipynb',\n",
       " 'Numerical Python(NumPy).ipynb',\n",
       " 'Object-Oriented Programming.ipynb',\n",
       " 'Pandas Data Analysis.ipynb',\n",
       " 'Python Basics.ipynb',\n",
       " 'Python Data Structures.ipynb',\n",
       " 'Python Fundamentals.ipynb',\n",
       " 'sample10.csv']"
      ]
     },
     "execution_count": 32,
     "metadata": {},
     "output_type": "execute_result"
    }
   ],
   "source": [
    "os.listdir()"
   ]
  },
  {
   "cell_type": "code",
   "execution_count": 33,
   "id": "c3c4b8c2",
   "metadata": {},
   "outputs": [],
   "source": [
    "send2trash.send2trash(\"main.txt\")"
   ]
  },
  {
   "cell_type": "code",
   "execution_count": 34,
   "id": "f741606f",
   "metadata": {},
   "outputs": [
    {
     "data": {
      "text/plain": [
       "['.ipynb_checkpoints',\n",
       " 'Advanced Python Foundations.ipynb',\n",
       " 'Data Handling.ipynb',\n",
       " 'Demo',\n",
       " 'First python code using Jupyter.ipynb',\n",
       " 'Introduction to Jupyter.ipynb',\n",
       " 'new.ipynb',\n",
       " 'Numerical Python(NumPy).ipynb',\n",
       " 'Object-Oriented Programming.ipynb',\n",
       " 'Pandas Data Analysis.ipynb',\n",
       " 'Python Basics.ipynb',\n",
       " 'Python Data Structures.ipynb',\n",
       " 'Python Fundamentals.ipynb',\n",
       " 'sample10.csv']"
      ]
     },
     "execution_count": 34,
     "metadata": {},
     "output_type": "execute_result"
    }
   ],
   "source": [
    "os.listdir()"
   ]
  },
  {
   "cell_type": "markdown",
   "id": "5facdecc",
   "metadata": {},
   "source": [
    "# The zipfile library"
   ]
  },
  {
   "cell_type": "code",
   "execution_count": 38,
   "id": "359e5750",
   "metadata": {},
   "outputs": [],
   "source": [
    "new_file = open(\"demo1.txt\", \"w+\")"
   ]
  },
  {
   "cell_type": "code",
   "execution_count": 39,
   "id": "f06ee8d1",
   "metadata": {},
   "outputs": [
    {
     "data": {
      "text/plain": [
       "14"
      ]
     },
     "execution_count": 39,
     "metadata": {},
     "output_type": "execute_result"
    }
   ],
   "source": [
    "new_file.write(\"This is demo 1\")"
   ]
  },
  {
   "cell_type": "code",
   "execution_count": 40,
   "id": "c26e0062",
   "metadata": {},
   "outputs": [],
   "source": [
    "new_file.close()"
   ]
  },
  {
   "cell_type": "code",
   "execution_count": 41,
   "id": "c8a1f2fa",
   "metadata": {},
   "outputs": [],
   "source": [
    "new_file = open(\"demo2.txt\", \"w+\")"
   ]
  },
  {
   "cell_type": "code",
   "execution_count": 42,
   "id": "3c8c6595",
   "metadata": {},
   "outputs": [
    {
     "data": {
      "text/plain": [
       "14"
      ]
     },
     "execution_count": 42,
     "metadata": {},
     "output_type": "execute_result"
    }
   ],
   "source": [
    "new_file.write(\"This is demo 2\")"
   ]
  },
  {
   "cell_type": "code",
   "execution_count": 43,
   "id": "ea0189d9",
   "metadata": {},
   "outputs": [],
   "source": [
    "new_file.close()"
   ]
  },
  {
   "cell_type": "code",
   "execution_count": 44,
   "id": "94b86afe",
   "metadata": {},
   "outputs": [],
   "source": [
    "import zipfile"
   ]
  },
  {
   "cell_type": "code",
   "execution_count": 45,
   "id": "a3c61c1a",
   "metadata": {},
   "outputs": [],
   "source": [
    "new_comp = zipfile.ZipFile(\"new_comp.zip\", \"w\")"
   ]
  },
  {
   "cell_type": "code",
   "execution_count": 46,
   "id": "f309ddd8",
   "metadata": {},
   "outputs": [],
   "source": [
    "new_comp.write(\"demo1.txt\", compress_type = zipfile.ZIP_DEFLATED)"
   ]
  },
  {
   "cell_type": "code",
   "execution_count": 47,
   "id": "bc57c1a9",
   "metadata": {},
   "outputs": [],
   "source": [
    "new_comp.write(\"demo2.txt\", compress_type = zipfile.ZIP_DEFLATED)"
   ]
  },
  {
   "cell_type": "code",
   "execution_count": 48,
   "id": "19ff9ac0",
   "metadata": {},
   "outputs": [],
   "source": [
    "new_comp.close()"
   ]
  },
  {
   "cell_type": "code",
   "execution_count": 49,
   "id": "3dac426c",
   "metadata": {},
   "outputs": [],
   "source": [
    "new_extract = zipfile.ZipFile(\"new_comp.zip\", \"r\")"
   ]
  },
  {
   "cell_type": "code",
   "execution_count": 50,
   "id": "0fc8777b",
   "metadata": {},
   "outputs": [],
   "source": [
    "new_extract.extractall(\"This is your extracted content!\")"
   ]
  },
  {
   "cell_type": "code",
   "execution_count": null,
   "id": "9f990853",
   "metadata": {},
   "outputs": [],
   "source": []
  }
 ],
 "metadata": {
  "kernelspec": {
   "display_name": "Python 3",
   "language": "python",
   "name": "python3"
  },
  "language_info": {
   "codemirror_mode": {
    "name": "ipython",
    "version": 3
   },
   "file_extension": ".py",
   "mimetype": "text/x-python",
   "name": "python",
   "nbconvert_exporter": "python",
   "pygments_lexer": "ipython3",
   "version": "3.8.8"
  }
 },
 "nbformat": 4,
 "nbformat_minor": 5
}
