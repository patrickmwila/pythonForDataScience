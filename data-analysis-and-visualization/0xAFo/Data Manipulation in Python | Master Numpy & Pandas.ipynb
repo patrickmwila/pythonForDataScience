{
 "cells": [
  {
   "cell_type": "markdown",
   "id": "8b225af2",
   "metadata": {},
   "source": [
    "\n",
    "# Numpy\n"
   ]
  },
  {
   "cell_type": "code",
   "execution_count": 1,
   "id": "cc88f3d9",
   "metadata": {},
   "outputs": [],
   "source": [
    "# imports \n",
    "import numpy as np"
   ]
  },
  {
   "cell_type": "markdown",
   "id": "6b1de9bb",
   "metadata": {},
   "source": [
    "## 1D Array "
   ]
  },
  {
   "cell_type": "code",
   "execution_count": 2,
   "id": "0ecf5ced",
   "metadata": {},
   "outputs": [
    {
     "name": "stdout",
     "output_type": "stream",
     "text": [
      "[1 2 3 4 5]\n"
     ]
    }
   ],
   "source": [
    "oneD_array = np.array( [1, 2, 3, 4, 5] )\n",
    "print( oneD_array )"
   ]
  },
  {
   "cell_type": "code",
   "execution_count": 3,
   "id": "731f0776",
   "metadata": {},
   "outputs": [
    {
     "name": "stdout",
     "output_type": "stream",
     "text": [
      "1\n"
     ]
    }
   ],
   "source": [
    "# check the number of dimensions\n",
    "\n",
    "print( oneD_array.ndim ) "
   ]
  },
  {
   "cell_type": "markdown",
   "id": "2de20a94",
   "metadata": {},
   "source": [
    "## 2D Array"
   ]
  },
  {
   "cell_type": "code",
   "execution_count": 4,
   "id": "906f2670",
   "metadata": {},
   "outputs": [
    {
     "name": "stdout",
     "output_type": "stream",
     "text": [
      "[[1 2 3]\n",
      " [4 5 6]]\n"
     ]
    }
   ],
   "source": [
    "# creating a 2D array\n",
    "# you pass a 2D list or tuple as an argument to the array fxn\n",
    "# a 2D list is a list in which every element is a 1D list\n",
    "\n",
    "twoD_array = np.array( [ [1, 2, 3,], [4, 5, 6] ] )\n",
    "print( twoD_array )"
   ]
  },
  {
   "cell_type": "markdown",
   "id": "8773a31d",
   "metadata": {},
   "source": [
    "## 3D Array"
   ]
  },
  {
   "cell_type": "code",
   "execution_count": 5,
   "id": "b373c481",
   "metadata": {},
   "outputs": [
    {
     "name": "stdout",
     "output_type": "stream",
     "text": [
      "2\n"
     ]
    }
   ],
   "source": [
    "# check the number of dimensions\n",
    "\n",
    "print( twoD_array.ndim )"
   ]
  },
  {
   "cell_type": "code",
   "execution_count": 6,
   "id": "1d90a50a",
   "metadata": {},
   "outputs": [
    {
     "name": "stdout",
     "output_type": "stream",
     "text": [
      "[[[ 1  2  3  4]\n",
      "  [-5 -6 -7 -8]\n",
      "  [ 9 10 11 12]\n",
      "  [13 14 15 15]]]\n"
     ]
    }
   ],
   "source": [
    "# creating a 3D array\n",
    "# using a 3D python list or tuple as argument\n",
    "# a 3D list is where each element of the outermost array is a 2D list\n",
    "\n",
    "threeD_array = np.array(\n",
    "    [ # 3D\n",
    "        [ # 2D\n",
    "            [1, 2, 3, 4], # 1D\n",
    "            [-5, -6, -7, -8],\n",
    "            [9, 10, 11, 12],\n",
    "            [13, 14, 15, 15]\n",
    "        ]\n",
    "    ]\n",
    ")\n",
    "\n",
    "print( threeD_array )"
   ]
  },
  {
   "cell_type": "code",
   "execution_count": 7,
   "id": "e3f2de09",
   "metadata": {},
   "outputs": [
    {
     "name": "stdout",
     "output_type": "stream",
     "text": [
      "3\n"
     ]
    }
   ],
   "source": [
    "# check the dimension \n",
    "\n",
    "print( threeD_array.ndim )"
   ]
  },
  {
   "cell_type": "markdown",
   "id": "ad6ede49",
   "metadata": {},
   "source": [
    "## Indexing NumPy Arrays"
   ]
  },
  {
   "cell_type": "code",
   "execution_count": 8,
   "id": "703d1548",
   "metadata": {},
   "outputs": [
    {
     "data": {
      "text/plain": [
       "6"
      ]
     },
     "execution_count": 8,
     "metadata": {},
     "output_type": "execute_result"
    }
   ],
   "source": [
    "# display values in an array\n",
    "# e.g to display 6 from the 2D array: \n",
    "\n",
    "twoD_array[1][2]"
   ]
  },
  {
   "cell_type": "code",
   "execution_count": 9,
   "id": "9ef6c749",
   "metadata": {},
   "outputs": [
    {
     "data": {
      "text/plain": [
       "11"
      ]
     },
     "execution_count": 9,
     "metadata": {},
     "output_type": "execute_result"
    }
   ],
   "source": [
    "# for 3D -- displaying 11\n",
    "threeD_array[0][2][2]"
   ]
  },
  {
   "cell_type": "code",
   "execution_count": 10,
   "id": "cf6df156",
   "metadata": {},
   "outputs": [
    {
     "data": {
      "text/plain": [
       "11"
      ]
     },
     "execution_count": 10,
     "metadata": {},
     "output_type": "execute_result"
    }
   ],
   "source": [
    "# for 3D -- displaying 11 method 2\n",
    "threeD_array[0, 2, 2]"
   ]
  },
  {
   "cell_type": "markdown",
   "id": "3c1b4ffe",
   "metadata": {},
   "source": [
    "## Array Shape"
   ]
  },
  {
   "cell_type": "code",
   "execution_count": 11,
   "id": "89c4180d",
   "metadata": {},
   "outputs": [
    {
     "name": "stdout",
     "output_type": "stream",
     "text": [
      "(1, 4, 4)\n"
     ]
    }
   ],
   "source": [
    "# checking the shape of an array\n",
    "# shape returns a tuple in which the first value = number of dimensions\n",
    "# in an array and the second value or third... = number of items \n",
    "# in that nd array\n",
    "\n",
    "print( threeD_array.shape )"
   ]
  },
  {
   "cell_type": "markdown",
   "id": "ec3e094c",
   "metadata": {},
   "source": [
    "## Iterating Over numPy Arrays"
   ]
  },
  {
   "cell_type": "code",
   "execution_count": 12,
   "id": "6e8c8673",
   "metadata": {},
   "outputs": [
    {
     "name": "stdout",
     "output_type": "stream",
     "text": [
      "1\n",
      "2\n",
      "3\n",
      "4\n",
      "5\n"
     ]
    }
   ],
   "source": [
    "# iterating over a 1D array\n",
    "# O(n)\n",
    "\n",
    "for item in oneD_array:\n",
    "    print( item )"
   ]
  },
  {
   "cell_type": "code",
   "execution_count": 13,
   "id": "82956561",
   "metadata": {},
   "outputs": [
    {
     "name": "stdout",
     "output_type": "stream",
     "text": [
      "1\n",
      "2\n",
      "3\n",
      "4\n",
      "5\n",
      "6\n"
     ]
    }
   ],
   "source": [
    "# iterating over a 2D array\n",
    "# O(n^2)\n",
    "for row in twoD_array:\n",
    "    for value in row:\n",
    "        print(value)"
   ]
  },
  {
   "cell_type": "code",
   "execution_count": 14,
   "id": "5cdaede9",
   "metadata": {},
   "outputs": [
    {
     "name": "stdout",
     "output_type": "stream",
     "text": [
      "1\n",
      "2\n",
      "3\n",
      "4\n",
      "-5\n",
      "-6\n",
      "-7\n",
      "-8\n",
      "9\n",
      "10\n",
      "11\n",
      "12\n",
      "13\n",
      "14\n",
      "15\n",
      "15\n"
     ]
    }
   ],
   "source": [
    "# iterating over a 3D array\n",
    "# O (n^3)\n",
    "\n",
    "for two_D_array in threeD_array:\n",
    "    for one_D_array in two_D_array:\n",
    "        for value in one_D_array:\n",
    "            print( value )"
   ]
  },
  {
   "cell_type": "markdown",
   "id": "698b5434",
   "metadata": {},
   "source": [
    "# Math for Data Science"
   ]
  },
  {
   "cell_type": "markdown",
   "id": "ad3cb94a",
   "metadata": {},
   "source": [
    "## Array of Zeros"
   ]
  },
  {
   "cell_type": "code",
   "execution_count": 15,
   "id": "df0032e6",
   "metadata": {},
   "outputs": [
    {
     "name": "stdout",
     "output_type": "stream",
     "text": [
      "[0. 0. 0. 0. 0. 0. 0. 0. 0. 0.]\n"
     ]
    }
   ],
   "source": [
    "# creating a 1D zeros array of length 10\n",
    "\n",
    "zeros_array = np.zeros(10)\n",
    "print( zeros_array )"
   ]
  },
  {
   "cell_type": "code",
   "execution_count": 16,
   "id": "e5f7116d",
   "metadata": {},
   "outputs": [
    {
     "name": "stdout",
     "output_type": "stream",
     "text": [
      "[0 0 0 0 0 0 0 0 0 0]\n"
     ]
    }
   ],
   "source": [
    "# convert zeros_array to int\n",
    "\n",
    "zeros_array = zeros_array.astype(int)\n",
    "print( zeros_array )"
   ]
  },
  {
   "cell_type": "markdown",
   "id": "9869c2b3",
   "metadata": {},
   "source": [
    "## Array of Ones"
   ]
  },
  {
   "cell_type": "code",
   "execution_count": 17,
   "id": "72b17f68",
   "metadata": {},
   "outputs": [
    {
     "name": "stdout",
     "output_type": "stream",
     "text": [
      "[1. 1. 1. 1. 1. 1. 1. 1. 1. 1.]\n"
     ]
    }
   ],
   "source": [
    "# creating a 1D ones array of length 10\n",
    "\n",
    "ones_array = np.ones(10)\n",
    "print( ones_array )"
   ]
  },
  {
   "cell_type": "code",
   "execution_count": 18,
   "id": "ff570f4a",
   "metadata": {},
   "outputs": [
    {
     "name": "stdout",
     "output_type": "stream",
     "text": [
      "[1 1 1 1 1 1 1 1 1 1]\n"
     ]
    }
   ],
   "source": [
    "# convert ones_array to int\n",
    "\n",
    "ones_array = ones_array.astype(int)\n",
    "print( ones_array )"
   ]
  },
  {
   "cell_type": "markdown",
   "id": "077c82a6",
   "metadata": {},
   "source": [
    "## Array with pre-filled values"
   ]
  },
  {
   "cell_type": "code",
   "execution_count": 19,
   "id": "f2ca85f8",
   "metadata": {},
   "outputs": [
    {
     "name": "stdout",
     "output_type": "stream",
     "text": [
      "[7 7 7 7 7 7 7 7 7 7]\n"
     ]
    }
   ],
   "source": [
    "# creating a array with prefilled values\n",
    "# first argument is the size of the array\n",
    "# second argument is the number(s) to fill in the array\n",
    "\n",
    "prefilled_array = np.full(10, 7)\n",
    "print( prefilled_array )"
   ]
  },
  {
   "cell_type": "markdown",
   "id": "6bc564d2",
   "metadata": {},
   "source": [
    "## Scalar Operations"
   ]
  },
  {
   "cell_type": "code",
   "execution_count": 20,
   "id": "60032c30",
   "metadata": {},
   "outputs": [
    {
     "name": "stdout",
     "output_type": "stream",
     "text": [
      "[[ 1  2  3  4]\n",
      " [-5 -6 -7 -8]\n",
      " [ 9 10 11 12]\n",
      " [13 14 15 15]]\n",
      "\n",
      "[[ 3  4  5  6]\n",
      " [-3 -4 -5 -6]\n",
      " [11 12 13 14]\n",
      " [15 16 17 17]]\n"
     ]
    }
   ],
   "source": [
    "# addition\n",
    "\n",
    "print( two_D_array )\n",
    "\n",
    "two_D_array = two_D_array + 2 # add 2 to each element\n",
    "print()\n",
    "\n",
    "print( two_D_array )"
   ]
  },
  {
   "cell_type": "code",
   "execution_count": 21,
   "id": "0dd34918",
   "metadata": {},
   "outputs": [
    {
     "ename": "TypeError",
     "evalue": "can only concatenate list (not \"int\") to list",
     "output_type": "error",
     "traceback": [
      "\u001b[0;31m---------------------------------------------------------------------------\u001b[0m",
      "\u001b[0;31mTypeError\u001b[0m                                 Traceback (most recent call last)",
      "Input \u001b[0;32mIn [21]\u001b[0m, in \u001b[0;36m<module>\u001b[0;34m\u001b[0m\n\u001b[1;32m      1\u001b[0m \u001b[38;5;66;03m# note addition operation on a list results in an error \u001b[39;00m\n\u001b[1;32m      3\u001b[0m one_D_list \u001b[38;5;241m=\u001b[39m [\u001b[38;5;241m1\u001b[39m, \u001b[38;5;241m2\u001b[39m, \u001b[38;5;241m3\u001b[39m, \u001b[38;5;241m4\u001b[39m]\n\u001b[0;32m----> 4\u001b[0m one_D_list \u001b[38;5;241m=\u001b[39m \u001b[43mone_D_list\u001b[49m\u001b[43m \u001b[49m\u001b[38;5;241;43m+\u001b[39;49m\u001b[43m \u001b[49m\u001b[38;5;241;43m2\u001b[39;49m\n\u001b[1;32m      6\u001b[0m \u001b[38;5;28mprint\u001b[39m( one_D_list )\n",
      "\u001b[0;31mTypeError\u001b[0m: can only concatenate list (not \"int\") to list"
     ]
    }
   ],
   "source": [
    "# note addition operation on a list results in an error \n",
    "\n",
    "one_D_list = [1, 2, 3, 4]\n",
    "one_D_list = one_D_list + 2\n",
    "\n",
    "print( one_D_list )"
   ]
  },
  {
   "cell_type": "code",
   "execution_count": 22,
   "id": "162674ca",
   "metadata": {},
   "outputs": [
    {
     "name": "stdout",
     "output_type": "stream",
     "text": [
      "[[ 3  4  5  6]\n",
      " [-3 -4 -5 -6]\n",
      " [11 12 13 14]\n",
      " [15 16 17 17]]\n",
      "\n",
      "[[ 1  2  3  4]\n",
      " [-5 -6 -7 -8]\n",
      " [ 9 10 11 12]\n",
      " [13 14 15 15]]\n"
     ]
    }
   ],
   "source": [
    "# subtraction\n",
    "\n",
    "print( two_D_array )\n",
    "\n",
    "two_D_array = two_D_array - 2\n",
    "print()\n",
    "\n",
    "print( two_D_array )"
   ]
  },
  {
   "cell_type": "code",
   "execution_count": 23,
   "id": "77fc8a12",
   "metadata": {},
   "outputs": [
    {
     "ename": "TypeError",
     "evalue": "unsupported operand type(s) for -: 'list' and 'int'",
     "output_type": "error",
     "traceback": [
      "\u001b[0;31m---------------------------------------------------------------------------\u001b[0m",
      "\u001b[0;31mTypeError\u001b[0m                                 Traceback (most recent call last)",
      "Input \u001b[0;32mIn [23]\u001b[0m, in \u001b[0;36m<module>\u001b[0;34m\u001b[0m\n\u001b[1;32m      1\u001b[0m \u001b[38;5;66;03m# note subtraction operation on a list results in an error \u001b[39;00m\n\u001b[0;32m----> 3\u001b[0m one_D_list \u001b[38;5;241m=\u001b[39m \u001b[43mone_D_list\u001b[49m\u001b[43m \u001b[49m\u001b[38;5;241;43m-\u001b[39;49m\u001b[43m \u001b[49m\u001b[38;5;241;43m2\u001b[39;49m\n\u001b[1;32m      5\u001b[0m \u001b[38;5;28mprint\u001b[39m( one_D_list )\n",
      "\u001b[0;31mTypeError\u001b[0m: unsupported operand type(s) for -: 'list' and 'int'"
     ]
    }
   ],
   "source": [
    "# note subtraction operation on a list results in an error \n",
    "\n",
    "one_D_list = one_D_list - 2\n",
    "\n",
    "print( one_D_list )"
   ]
  },
  {
   "cell_type": "code",
   "execution_count": 24,
   "id": "858c5b0d",
   "metadata": {},
   "outputs": [
    {
     "name": "stdout",
     "output_type": "stream",
     "text": [
      "[[ 1  2  3  4]\n",
      " [-5 -6 -7 -8]\n",
      " [ 9 10 11 12]\n",
      " [13 14 15 15]]\n",
      "\n",
      "[[  2   4   6   8]\n",
      " [-10 -12 -14 -16]\n",
      " [ 18  20  22  24]\n",
      " [ 26  28  30  30]]\n"
     ]
    }
   ],
   "source": [
    "# multiplication\n",
    "\n",
    "print( two_D_array )\n",
    "\n",
    "two_D_array = two_D_array * 2\n",
    "print()\n",
    "\n",
    "print(two_D_array)"
   ]
  },
  {
   "cell_type": "code",
   "execution_count": 25,
   "id": "3a07958f",
   "metadata": {},
   "outputs": [
    {
     "name": "stdout",
     "output_type": "stream",
     "text": [
      "[1, 2, 3, 4, 1, 2, 3, 4]\n"
     ]
    }
   ],
   "source": [
    "# note multiplication operation on a list results in concatenation\n",
    "# of a list with itself\n",
    "\n",
    "one_D_list = one_D_list * 2\n",
    "\n",
    "print( one_D_list )"
   ]
  },
  {
   "cell_type": "code",
   "execution_count": 26,
   "id": "419c832b",
   "metadata": {},
   "outputs": [
    {
     "name": "stdout",
     "output_type": "stream",
     "text": [
      "[[  2   4   6   8]\n",
      " [-10 -12 -14 -16]\n",
      " [ 18  20  22  24]\n",
      " [ 26  28  30  30]]\n",
      "\n",
      "[[ 1.  2.  3.  4.]\n",
      " [-5. -6. -7. -8.]\n",
      " [ 9. 10. 11. 12.]\n",
      " [13. 14. 15. 15.]]\n"
     ]
    }
   ],
   "source": [
    "# division (/ --> float or // --> integer)\n",
    "print( two_D_array )\n",
    "\n",
    "two_D_array = two_D_array / 2 \n",
    "print()\n",
    "\n",
    "print( two_D_array )"
   ]
  },
  {
   "cell_type": "code",
   "execution_count": 27,
   "id": "557852bf",
   "metadata": {},
   "outputs": [
    {
     "ename": "TypeError",
     "evalue": "unsupported operand type(s) for /: 'list' and 'int'",
     "output_type": "error",
     "traceback": [
      "\u001b[0;31m---------------------------------------------------------------------------\u001b[0m",
      "\u001b[0;31mTypeError\u001b[0m                                 Traceback (most recent call last)",
      "Input \u001b[0;32mIn [27]\u001b[0m, in \u001b[0;36m<module>\u001b[0;34m\u001b[0m\n\u001b[1;32m      1\u001b[0m \u001b[38;5;66;03m# note division operation on a list results in an error \u001b[39;00m\n\u001b[0;32m----> 3\u001b[0m one_D_list \u001b[38;5;241m=\u001b[39m \u001b[43mone_D_list\u001b[49m\u001b[43m \u001b[49m\u001b[38;5;241;43m/\u001b[39;49m\u001b[43m \u001b[49m\u001b[38;5;241;43m2\u001b[39;49m\n\u001b[1;32m      5\u001b[0m \u001b[38;5;28mprint\u001b[39m( one_D_list )\n",
      "\u001b[0;31mTypeError\u001b[0m: unsupported operand type(s) for /: 'list' and 'int'"
     ]
    }
   ],
   "source": [
    "# note division operation on a list results in an error \n",
    "\n",
    "one_D_list = one_D_list / 2\n",
    "\n",
    "print( one_D_list )\n"
   ]
  },
  {
   "cell_type": "markdown",
   "id": "2523efde",
   "metadata": {},
   "source": [
    "## Transpose Operation"
   ]
  },
  {
   "cell_type": "code",
   "execution_count": 29,
   "id": "a40141dc",
   "metadata": {},
   "outputs": [
    {
     "name": "stdout",
     "output_type": "stream",
     "text": [
      "[[1 2 3]\n",
      " [4 5 6]]\n",
      "\n",
      "[[1 4]\n",
      " [2 5]\n",
      " [3 6]]\n"
     ]
    }
   ],
   "source": [
    "# taking transpose of an array\n",
    "\n",
    "print( twoD_array )\n",
    "print()\n",
    "\n",
    "print( twoD_array.T ) # transpose twoD_array"
   ]
  },
  {
   "cell_type": "markdown",
   "id": "7c4be637",
   "metadata": {},
   "source": [
    "## Element-wise Operations"
   ]
  },
  {
   "cell_type": "code",
   "execution_count": 35,
   "id": "a6247285",
   "metadata": {},
   "outputs": [],
   "source": [
    " # we first create two arrays\n",
    "    \n",
    "matrix1 = np.array(\n",
    "    [ # 2D\n",
    "        [1, 2, 3], \n",
    "        [4, 5, 6]\n",
    "    ]\n",
    ")\n",
    "\n",
    "matrix2 = np.array(\n",
    "    [ # 2D\n",
    "       [-1, -2, -3],\n",
    "       [-4, -5, -6]\n",
    "    ]\n",
    ")"
   ]
  },
  {
   "cell_type": "code",
   "execution_count": 36,
   "id": "ebcb9ebb",
   "metadata": {},
   "outputs": [
    {
     "name": "stdout",
     "output_type": "stream",
     "text": [
      "[[1 2 3]\n",
      " [4 5 6]]\n"
     ]
    }
   ],
   "source": [
    "print(matrix1)"
   ]
  },
  {
   "cell_type": "code",
   "execution_count": 37,
   "id": "67504787",
   "metadata": {},
   "outputs": [
    {
     "name": "stdout",
     "output_type": "stream",
     "text": [
      "[[-1 -2 -3]\n",
      " [-4 -5 -6]]\n"
     ]
    }
   ],
   "source": [
    "print(matrix2)"
   ]
  },
  {
   "cell_type": "code",
   "execution_count": 38,
   "id": "8b31aaa3",
   "metadata": {},
   "outputs": [
    {
     "name": "stdout",
     "output_type": "stream",
     "text": [
      "[[0 0 0]\n",
      " [0 0 0]]\n"
     ]
    }
   ],
   "source": [
    "# addition\n",
    "\n",
    "print( matrix1 + matrix2 )"
   ]
  },
  {
   "cell_type": "code",
   "execution_count": 39,
   "id": "17eb1a44",
   "metadata": {},
   "outputs": [
    {
     "name": "stdout",
     "output_type": "stream",
     "text": [
      "[[ 2  4  6]\n",
      " [ 8 10 12]]\n"
     ]
    }
   ],
   "source": [
    "# subtraction\n",
    "\n",
    "print( matrix1 - matrix2 )"
   ]
  },
  {
   "cell_type": "code",
   "execution_count": 40,
   "id": "f9d0082c",
   "metadata": {},
   "outputs": [
    {
     "name": "stdout",
     "output_type": "stream",
     "text": [
      "[[ -1  -4  -9]\n",
      " [-16 -25 -36]]\n"
     ]
    }
   ],
   "source": [
    "# multiplication\n",
    "\n",
    "print( matrix1 * matrix2 )"
   ]
  },
  {
   "cell_type": "code",
   "execution_count": 41,
   "id": "a55d1d3b",
   "metadata": {},
   "outputs": [
    {
     "name": "stdout",
     "output_type": "stream",
     "text": [
      "[[-1. -1. -1.]\n",
      " [-1. -1. -1.]]\n"
     ]
    }
   ],
   "source": [
    "# division\n",
    "\n",
    "print( matrix1 / matrix2 )"
   ]
  },
  {
   "cell_type": "code",
   "execution_count": 54,
   "id": "a0509669",
   "metadata": {},
   "outputs": [
    {
     "name": "stdout",
     "output_type": "stream",
     "text": [
      "[[-1 -1 -1]\n",
      " [-1 -1 -1]]\n"
     ]
    }
   ],
   "source": [
    "# floor division\n",
    "\n",
    "print( matrix1 // matrix2)"
   ]
  },
  {
   "cell_type": "markdown",
   "id": "1ecbfb5a",
   "metadata": {},
   "source": [
    "# Statistics"
   ]
  },
  {
   "cell_type": "code",
   "execution_count": 60,
   "id": "16de189e",
   "metadata": {},
   "outputs": [
    {
     "name": "stdout",
     "output_type": "stream",
     "text": [
      "[[1 2 3]\n",
      " [4 5 6]]\n"
     ]
    }
   ],
   "source": [
    "print( matrix1 )"
   ]
  },
  {
   "cell_type": "code",
   "execution_count": 61,
   "id": "d17bae16",
   "metadata": {},
   "outputs": [
    {
     "name": "stdout",
     "output_type": "stream",
     "text": [
      "3.5\n"
     ]
    }
   ],
   "source": [
    "# find the mean \n",
    "\n",
    "print( np.mean(matrix1) )"
   ]
  },
  {
   "cell_type": "code",
   "execution_count": 62,
   "id": "f47ddaf8",
   "metadata": {},
   "outputs": [
    {
     "name": "stdout",
     "output_type": "stream",
     "text": [
      "3.5\n"
     ]
    }
   ],
   "source": [
    "# find the median\n",
    "\n",
    "print( np.median(matrix1) )"
   ]
  },
  {
   "cell_type": "code",
   "execution_count": 64,
   "id": "0ddffb70",
   "metadata": {},
   "outputs": [
    {
     "name": "stdout",
     "output_type": "stream",
     "text": [
      "6\n"
     ]
    }
   ],
   "source": [
    "# find the maximum value\n",
    "\n",
    "print( np.max(matrix1) )"
   ]
  },
  {
   "cell_type": "code",
   "execution_count": 66,
   "id": "0a621481",
   "metadata": {},
   "outputs": [
    {
     "name": "stdout",
     "output_type": "stream",
     "text": [
      "1\n"
     ]
    }
   ],
   "source": [
    "# find the minimum value\n",
    "\n",
    "print( np.min(matrix1) )"
   ]
  },
  {
   "cell_type": "code",
   "execution_count": 65,
   "id": "9ee8edf5",
   "metadata": {},
   "outputs": [
    {
     "name": "stdout",
     "output_type": "stream",
     "text": [
      "21\n"
     ]
    }
   ],
   "source": [
    "# find the sum of items\n",
    "\n",
    "print( np.sum(matrix1) )"
   ]
  },
  {
   "cell_type": "code",
   "execution_count": 67,
   "id": "edc4b350",
   "metadata": {},
   "outputs": [
    {
     "name": "stdout",
     "output_type": "stream",
     "text": [
      "1.707825127659933\n"
     ]
    }
   ],
   "source": [
    "# find the standard deviation\n",
    "\n",
    "print( np.std(matrix1) )"
   ]
  },
  {
   "cell_type": "markdown",
   "id": "15cbde29",
   "metadata": {},
   "source": [
    "# Pandas DataFrames & Series"
   ]
  }
 ],
 "metadata": {
  "kernelspec": {
   "display_name": "Python 3 (ipykernel)",
   "language": "python",
   "name": "python3"
  },
  "language_info": {
   "codemirror_mode": {
    "name": "ipython",
    "version": 3
   },
   "file_extension": ".py",
   "mimetype": "text/x-python",
   "name": "python",
   "nbconvert_exporter": "python",
   "pygments_lexer": "ipython3",
   "version": "3.8.10"
  }
 },
 "nbformat": 4,
 "nbformat_minor": 5
}
