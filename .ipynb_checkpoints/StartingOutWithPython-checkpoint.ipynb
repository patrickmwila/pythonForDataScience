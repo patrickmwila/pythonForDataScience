{
 "cells": [
  {
   "cell_type": "markdown",
   "metadata": {},
   "source": [
    "<font face='Ubuntu'><h1>Fundamental Programming Concepts</h1></font>\n",
    "<hr />\n",
    "<font face='Ubuntu'><h2>Designing a program</h2></font>"
   ]
  },
  {
   "cell_type": "markdown",
   "metadata": {},
   "source": [
    "<font face='Ubuntu'>The process of creating a program that works correctly typically requires <b>five</b> phases. The entire process is known as the <b><i>program development cycle</i></b>;\n",
    "(i)  Design a program\n",
    "(ii) Write code\n",
    "(iii)Correct syntax errors\n",
    "(iv) Testing\n",
    "(v)  Correcting logical errors\n",
    "</font>"
   ]
  },
  {
   "cell_type": "markdown",
   "metadata": {},
   "source": [
    "<font face='Ubuntu'>The process of designing a program can be summarized in the following two steps:\n",
    "\n",
    "1. Understand the task that the program is to perform.\n",
    "2. Determine the steps that must be taken to perform the task.\n",
    "</font>\n",
    "<hr />\n",
    "\n",
    "<b>Refer</b> to the <i>book Starting Out with Python</i> by <b>Tony Gaddis</b> for details [2.1]\n",
    "</font>\n"
   ]
  },
  {
   "cell_type": "markdown",
   "metadata": {},
   "source": [
    "<font face='Ubuntu'><h2>Data processing [Python]</h2></font>\n",
    "\n",
    "<font face='Ubuntu'>How is <b>data input</b> provided to computers and how is this data processed to get the <b>output</b>?</font>\n",
    "<font face='Ubuntu'>Computer programs typically perform the following three-step process:\n"
   ]
  },
  {
   "cell_type": "markdown",
   "metadata": {},
   "source": [
    "<font face='Ubuntu'>\n",
    "1. Input is received.\n",
    "2. Some process is performed on the input.\n",
    "3. Output is produced.\n",
    "<hr />\n",
    "<b>Refer</b> to the <i>book Starting Out with Python</i> by <b>Tony Gaddis</b> for details [2.2]\n",
    "</font>"
   ]
  },
  {
   "cell_type": "markdown",
   "metadata": {},
   "source": [
    "<font face='Ubuntu'><h3>Write a program that displays your name and address on the computer screen.</h3></font>\n"
   ]
  },
  {
   "cell_type": "code",
   "execution_count": 2,
   "metadata": {},
   "outputs": [
    {
     "name": "stdout",
     "output_type": "stream",
     "text": [
      "Patrick Mwila\n",
      "15 Roma Girls\n",
      "Lusaka\n"
     ]
    }
   ],
   "source": [
    "print('Patrick Mwila')\n",
    "print('15 Roma Girls')\n",
    "print('Lusaka')"
   ]
  },
  {
   "cell_type": "markdown",
   "metadata": {},
   "source": [
    "<font face='Ubuntu'><h3>Variables</h3></font>\n",
    "\n",
    "<font face='Ubuntu'>How do we store data for reuse in our programs?</font>\n",
    "\n",
    "<font face='Ubuntu'>Programs use variables to access and manipulate data that is stored in memory. A variable is a name\n",
    "that represents a value in the computer’s memory. For example, a program that calculates the sales\n",
    "tax on a purchase might use the variable name tax to represent that value in memory. And a program\n",
    "that calculates the distance between two cities might use the variable name distance to represent\n",
    "that value in memory. When a variable represents a value in the computer’s memory, we say that the\n",
    "variable references the value.\n",
    "<hr />\n",
    "<b>Refer</b> to the <i>book Starting Out with Python</i> by <b>Tony Gaddis</b> for details [2.5]\n",
    "</font>"
   ]
  },
  {
   "cell_type": "markdown",
   "metadata": {},
   "source": [
    "<font face='ubuntu'><h3>Creating Variables with Assignment Statements</h3></font>"
   ]
  },
  {
   "cell_type": "code",
   "execution_count": 7,
   "metadata": {},
   "outputs": [
    {
     "name": "stdout",
     "output_type": "stream",
     "text": [
      "10\n",
      "5\n"
     ]
    }
   ],
   "source": [
    "width = 10 #store 10 in ram and reference it with width\n",
    "length = 5 #store 5 in ram and reference it with length\n",
    "\n",
    "print(width)\n",
    "print(length)"
   ]
  },
  {
   "cell_type": "markdown",
   "metadata": {},
   "source": [
    "<font face='Ubuntu'>In an assignment statement, the variable that is receiving the assignment must appear on the left side of the = operator. An error occurs if the item on the left side of the = operator is not a variable:</font>"
   ]
  },
  {
   "cell_type": "code",
   "execution_count": 4,
   "metadata": {},
   "outputs": [
    {
     "ename": "SyntaxError",
     "evalue": "cannot assign to literal (<ipython-input-4-e862b60f0146>, line 1)",
     "output_type": "error",
     "traceback": [
      "\u001b[0;36m  File \u001b[0;32m\"<ipython-input-4-e862b60f0146>\"\u001b[0;36m, line \u001b[0;32m1\u001b[0m\n\u001b[0;31m    10 = width\u001b[0m\n\u001b[0m    ^\u001b[0m\n\u001b[0;31mSyntaxError\u001b[0m\u001b[0;31m:\u001b[0m cannot assign to literal\n"
     ]
    }
   ],
   "source": [
    "10 = width"
   ]
  },
  {
   "cell_type": "markdown",
   "metadata": {},
   "source": [
    "<font face=\"Ubuntu\">The code below demonstrates a variable. Line 1 creates a variable named room and assigns it the value 503. The statements in lines 2 and 3 display a message. Notice line 3 displays the value that is referenced by the room variable.</font>"
   ]
  },
  {
   "cell_type": "code",
   "execution_count": 6,
   "metadata": {},
   "outputs": [
    {
     "name": "stdout",
     "output_type": "stream",
     "text": [
      "I am staying in room number\n",
      "503\n"
     ]
    }
   ],
   "source": [
    "room = 503\n",
    "print('I am staying in room number')\n",
    "print(room)"
   ]
  },
  {
   "cell_type": "markdown",
   "metadata": {},
   "source": [
    "<font face='Ubuntu'> The above code can be simplified using ',':</font>"
   ]
  },
  {
   "cell_type": "code",
   "execution_count": 15,
   "metadata": {},
   "outputs": [
    {
     "name": "stdout",
     "output_type": "stream",
     "text": [
      "I am staying in room number 503\n"
     ]
    }
   ],
   "source": [
    "room = 503\n",
    "print('I am staying in room number',room)"
   ]
  },
  {
   "cell_type": "markdown",
   "metadata": {},
   "source": [
    "<font face='Ubuntu'> Notice the print function automatically printed a space separating the two items. When multiple arguments are passed to the print function, they are automatically separated by a space when they are displayed on the screen. This behaviour can be altered, more on this later.</font>"
   ]
  },
  {
   "cell_type": "markdown",
   "metadata": {},
   "source": [
    "<font face='Ubuntu'> The above code can be rewritten using string formating:</font>"
   ]
  },
  {
   "cell_type": "code",
   "execution_count": 11,
   "metadata": {},
   "outputs": [
    {
     "name": "stdout",
     "output_type": "stream",
     "text": [
      "I am staying in room number 503\n"
     ]
    }
   ],
   "source": [
    "room = 503\n",
    "print(f'I am staying in room number {room}')"
   ]
  },
  {
   "cell_type": "markdown",
   "metadata": {},
   "source": [
    "<font face='Ubuntu'><h3>Numeric Data Types and Literals</h3></font>\n",
    "\n",
    "<font face ='Ubuntu'>A number that is written into a program’s code is called a numeric literal. When the Python interpreter reads a numeric literal in a program’s code, it determines its data type according to the following rules:</font>"
   ]
  },
  {
   "cell_type": "code",
   "execution_count": null,
   "metadata": {},
   "outputs": [],
   "source": []
  }
 ],
 "metadata": {
  "kernelspec": {
   "display_name": "Python 3",
   "language": "python",
   "name": "python3"
  },
  "language_info": {
   "codemirror_mode": {
    "name": "ipython",
    "version": 3
   },
   "file_extension": ".py",
   "mimetype": "text/x-python",
   "name": "python",
   "nbconvert_exporter": "python",
   "pygments_lexer": "ipython3",
   "version": "3.9.2"
  }
 },
 "nbformat": 4,
 "nbformat_minor": 4
}
